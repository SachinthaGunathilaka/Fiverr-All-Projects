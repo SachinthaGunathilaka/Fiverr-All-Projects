{
 "cells": [
  {
   "cell_type": "code",
   "execution_count": 32,
   "outputs": [],
   "source": [
    "from selenium.common.exceptions import NoSuchElementException\n",
    "from selenium import webdriver\n",
    "from shutil import which\n",
    "from fake_useragent import UserAgent\n",
    "import time\n",
    "from selenium.webdriver.chrome.options import Options\n",
    "from bs4 import BeautifulSoup\n",
    "\n",
    "from selenium.webdriver.support.ui import WebDriverWait\n",
    "from selenium.webdriver.support import expected_conditions as EC\n",
    "from selenium.webdriver.common.by import By\n",
    "\n",
    "from datetime import datetime\n",
    "\n",
    "given_date_str = \"2022-08-10\"\n",
    "given_date = datetime.strptime(given_date_str, '%Y-%m-%d')\n",
    "sellers = []\n",
    "url = \"https://www.bybit.com/copyTrade/trade-center/detail?leaderMark=ZIFBeYBreTZKNwkw/7Dobg==\""
   ],
   "metadata": {
    "collapsed": false,
    "pycharm": {
     "name": "#%%\n"
    }
   }
  },
  {
   "cell_type": "code",
   "execution_count": 15,
   "metadata": {
    "collapsed": true
   },
   "outputs": [],
   "source": [
    "def readPastTrades(url):\n",
    "    ua = UserAgent()\n",
    "    user_agent = ua.random\n",
    "\n",
    "    # Import options\n",
    "\n",
    "    # Create Options object\n",
    "    chrome_options = Options()\n",
    "    chrome_options.add_argument(f'user-agent={user_agent}')\n",
    "    chrome_options.add_argument(\"--start-maximized\");\n",
    "\n",
    "    # Add argument to Options to use headless browser\n",
    "    # chrome_options.add_argument(\"--headless\")\n",
    "\n",
    "    chrome_path = which(\"chromedriver\")\n",
    "\n",
    "    # Add options argument to Chrome driver to use headless browser\n",
    "    driver = webdriver.Chrome(executable_path=chrome_path, options=chrome_options)\n",
    "\n",
    "    past_trades_pages = []\n",
    "\n",
    "    driver.get(url)\n",
    "\n",
    "    # search_input = driver.find_element_by_id(\"search_form_input_homepage\")\n",
    "    # search_input.send_keys(\"My User Agent\")\n",
    "    # search_input.send_keys(Keys.ENTER)\n",
    "\n",
    "    # Print the html markup\n",
    "    time.sleep(1)\n",
    "\n",
    "    while True:\n",
    "        try:\n",
    "            past_trades_pages.append(driver.page_source)\n",
    "\n",
    "            next_button = driver.find_element_by_xpath(\n",
    "                \"//li[@class='ant-pagination-next' and @aria-disabled='false']/button\")\n",
    "            next_button.click()\n",
    "            time.sleep(0.8)\n",
    "\n",
    "\n",
    "        except NoSuchElementException:\n",
    "            break\n",
    "\n",
    "        except Exception as e:\n",
    "            print(e)\n",
    "            break\n",
    "\n",
    "    # Close the driver\n",
    "    driver.close()\n",
    "    print(len(past_trades_pages))\n",
    "    return past_trades_pages\n"
   ]
  },
  {
   "cell_type": "code",
   "execution_count": 16,
   "outputs": [
    {
     "name": "stdout",
     "output_type": "stream",
     "text": [
      "1\n",
      "37\n"
     ]
    }
   ],
   "source": [
    "past_trades_pages = readPastTrades(url)\n",
    "count = 0\n",
    "while len(past_trades_pages) < 2:\n",
    "    if count == 5:\n",
    "        break\n",
    "    past_trades_pages = readPastTrades(url)\n",
    "    count += 1"
   ],
   "metadata": {
    "collapsed": false,
    "pycharm": {
     "name": "#%%\n"
    }
   }
  },
  {
   "cell_type": "code",
   "execution_count": 17,
   "outputs": [],
   "source": [
    "from math import ceil\n",
    "\n",
    "\n",
    "def readCopyTrades(url):\n",
    "    ua = UserAgent()\n",
    "    user_agent = ua.random\n",
    "\n",
    "    # Create Options object\n",
    "    chrome_options = Options()\n",
    "    chrome_options.add_argument(f'user-agent={user_agent}')\n",
    "    chrome_options.add_argument(\"--start-maximized\")\n",
    "\n",
    "    # Add argument to Options to use headless browser\n",
    "    # chrome_options.add_argument(\"--headless\")\n",
    "\n",
    "    chrome_path = which(\"chromedriver\")\n",
    "    driver = webdriver.Chrome(executable_path=chrome_path, options=chrome_options)\n",
    "\n",
    "    driver.get(url)\n",
    "    time.sleep(1)\n",
    "    copy_trade_button = driver.find_element_by_xpath(\"(//div[@class='ant-tabs-tab-btn'])[2]\")\n",
    "    copy_pages = ceil(int(copy_trade_button.text.strip().split()[2][1:-1]) / 20)\n",
    "    time.sleep(1)\n",
    "    copy_trade_button.click()\n",
    "    time.sleep(1)\n",
    "\n",
    "    copy_trades_pages = []\n",
    "\n",
    "    while True:\n",
    "        try:\n",
    "            copy_trades_pages.append(driver.page_source.encode('utf-8'))\n",
    "\n",
    "            next_button = driver.find_element_by_xpath(\n",
    "                \"(//li[@class='ant-pagination-next' and @aria-disabled='false']/button)[2]\")\n",
    "\n",
    "            # next_button = WebDriverWait(driver, 10).until(EC.visibility_of_all_elements_located((By.XPATH, \"((//li[@class='ant-pagination-next' and @aria-disabled='false']/button)[2]\")))\n",
    "\n",
    "            next_button.click()\n",
    "            time.sleep(1)\n",
    "\n",
    "\n",
    "        except NoSuchElementException:\n",
    "            break\n",
    "\n",
    "    print(len(copy_trades_pages))\n",
    "    driver.close()\n",
    "\n",
    "    return (copy_trades_pages, copy_pages)\n",
    "\n"
   ],
   "metadata": {
    "collapsed": false,
    "pycharm": {
     "name": "#%%\n"
    }
   }
  },
  {
   "cell_type": "code",
   "execution_count": 18,
   "outputs": [
    {
     "name": "stdout",
     "output_type": "stream",
     "text": [
      "1\n",
      "3\n"
     ]
    }
   ],
   "source": [
    "copy_trades_pages, copy_pages = readCopyTrades(url)\n",
    "count = 0\n",
    "while (len(copy_trades_pages) < copy_pages) or copy_pages == 0:\n",
    "    if count == 5:\n",
    "        break\n",
    "    copy_trades_pages, copy_pages = readCopyTrades(url)\n",
    "    count += 1\n",
    "\n",
    "\n"
   ],
   "metadata": {
    "collapsed": false,
    "pycharm": {
     "name": "#%%\n"
    }
   }
  },
  {
   "cell_type": "code",
   "execution_count": 19,
   "outputs": [
    {
     "name": "stdout",
     "output_type": "stream",
     "text": [
      "-433.39\n"
     ]
    }
   ],
   "source": [
    "# profits = 0\n",
    "# losses = 0\n",
    "percentage = 0\n",
    "\n",
    "done = False\n",
    "for copy_trades_page in copy_trades_pages:\n",
    "\n",
    "    if done:\n",
    "        break\n",
    "    soup = BeautifulSoup(\n",
    "        copy_trades_page)  # If this line causes an error, run 'pip install html5lib' or install html5lib\n",
    "    # print(soup.prettify())\n",
    "\n",
    "    table = soup.findAll(\"tbody\", {\"class\": \"ant-table-tbody\"})[1]\n",
    "    rows = table.findAll(\"tr\", {\"class\": \"ant-table-row ant-table-row-level-0\"})\n",
    "\n",
    "    for row in rows:\n",
    "        # print(row)\n",
    "        tds = row.findAll(\"td\", {\"class\": \"ant-table-cell\"})\n",
    "        outcome = float(tds[4].find(\"span\").text.strip().split(\"%\")[0])\n",
    "        date_str = tds[3].text.strip()\n",
    "        leverage = int(tds[0].text.strip().split()[1].strip().split(\"x\")[0].strip())\n",
    "        # print(leverage, outcome)\n",
    "        date = datetime.strptime(date_str, '%Y-%m-%d %H:%M:%S')\n",
    "\n",
    "        if given_date > date:\n",
    "            done = True\n",
    "            break\n",
    "\n",
    "        # print(date)\n",
    "        # print(outcome)\n",
    "        # if outcome[0] == \"+\":\n",
    "        #     profits += 1\n",
    "        #\n",
    "        # elif outcome[0] == \"-\":\n",
    "        #     losses += 1\n",
    "\n",
    "        percentage += outcome / leverage\n",
    "        # print(outcome/leverage)\n",
    "\n",
    "print(percentage)\n",
    "\n",
    "    # print(profits, losses)"
   ],
   "metadata": {
    "collapsed": false,
    "pycharm": {
     "name": "#%%\n"
    }
   }
  },
  {
   "cell_type": "code",
   "execution_count": 33,
   "outputs": [],
   "source": [
    "# profits = 0\n",
    "# losses = 0\n",
    "\n",
    "done = False\n",
    "for past_trades_page in past_trades_pages:\n",
    "\n",
    "    if done:\n",
    "        break\n",
    "\n",
    "    soup = BeautifulSoup(\n",
    "        past_trades_page)  # If this line causes an error, run 'pip install html5lib' or install html5lib\n",
    "    # print(soup.prettify())\n",
    "\n",
    "    table = soup.findAll(\"tbody\", {\"class\": \"ant-table-tbody\"})[0]\n",
    "    rows = table.findAll(\"tr\", {\"class\": \"ant-table-row ant-table-row-level-0\"})\n",
    "\n",
    "    for row in rows:\n",
    "        tds = row.findAll(\"td\", {\"class\": \"ant-table-cell\"})\n",
    "        outcome = float(tds[5].find(\"span\").text.strip().split(\"%\")[0])\n",
    "        date_str = tds[4].text.strip()\n",
    "        leverage = int(tds[0].text.strip().split()[1].strip().split(\"x\")[0].strip())\n",
    "\n",
    "        date = datetime.strptime(date_str, '%Y-%m-%d %H:%M:%S')\n",
    "\n",
    "        if given_date > date:\n",
    "            done = True\n",
    "            break\n",
    "\n",
    "        # print(date)\n",
    "        # print(outcome)\n",
    "\n",
    "        percentage += outcome / leverage\n",
    "        # print(outcome/leverage)\n",
    "        # if outcome[0] == \"+\":\n",
    "        #     profits += 1\n",
    "        #\n",
    "        # elif outcome[0] == \"-\":\n",
    "        #     losses += 1\n",
    "\n",
    "sellers.append([url, round(percentage, 2)])"
   ],
   "metadata": {
    "collapsed": false,
    "pycharm": {
     "name": "#%%\n"
    }
   }
  },
  {
   "cell_type": "code",
   "execution_count": 34,
   "outputs": [
    {
     "name": "stdout",
     "output_type": "stream",
     "text": [
      "[['https://www.bybit.com/copyTrade/trade-center/detail?leaderMark=ZIFBeYBreTZKNwkw/7Dobg==', 3050.26]]\n"
     ]
    }
   ],
   "source": [
    "print(sellers)"
   ],
   "metadata": {
    "collapsed": false,
    "pycharm": {
     "name": "#%%\n"
    }
   }
  },
  {
   "cell_type": "code",
   "execution_count": null,
   "outputs": [],
   "source": [],
   "metadata": {
    "collapsed": false,
    "pycharm": {
     "name": "#%%\n"
    }
   }
  }
 ],
 "metadata": {
  "kernelspec": {
   "display_name": "Python 3",
   "language": "python",
   "name": "python3"
  },
  "language_info": {
   "codemirror_mode": {
    "name": "ipython",
    "version": 2
   },
   "file_extension": ".py",
   "mimetype": "text/x-python",
   "name": "python",
   "nbconvert_exporter": "python",
   "pygments_lexer": "ipython2",
   "version": "2.7.6"
  }
 },
 "nbformat": 4,
 "nbformat_minor": 0
}