{
 "cells": [
  {
   "cell_type": "code",
   "execution_count": 76,
   "metadata": {
    "collapsed": true
   },
   "outputs": [
    {
     "data": {
      "text/plain": "   indexCAT                                     Id                 StartDate  \\\n0        78  5ff35cc8-f81b-1se4-2wed-32444fsd67h12  2022-02-03T23:35:54.000Z   \n1       321   7y1b5cc8-dbf3-5574-78cd-32107fsd67h3  2022-02-03T23:54:14.000Z   \n2         6   f81b5cc8-d3f3-5671-7832-ps907fsd67h3  2022-02-04T00:33:43.000Z   \n3        78   z89b5cc8-xcf3-8979-kl54-6tg07fsd67h4  2022-02-04T00:55:54.000Z   \n4      9098   k23b5cc8-2f7k-3546-73wd-yu107fsd67h5  2022-02-04T02:15:24.000Z   \n\n                    EndDate randompropernouna randompropernounb category  \\\n0  2022-02-03T23:59:54.000Z      Duck/54-Left           Cat/43S      one   \n1  2022-02-04T00:35:54.000Z      Duck/54-Left           Cat/43S      two   \n2  2022-02-04T01:05:04.000Z      Duck/54-Left           Cat/43S     four   \n3  2022-02-04T02:13:44.000Z      Duck/54-Left           Cat/43S    three   \n4  2022-02-04T03:35:54.000Z      Duck/54-Left           Cat/43S      one   \n\n   durationmin  maxmeasure  Startmeasure  Endmeasure  Frompixelx  Frompixely  \\\n0            2       20.20         0.975       0.607  917.098991  919.123750   \n1            5        6.50         0.000       0.320  917.563237  913.989172   \n2            8        7.08         0.042       0.042  915.098909  919.657919   \n3           12        3.43         0.567       0.021  913.989172  919.123750   \n4           56        1.23         0.000       0.050  919.657919  917.098991   \n\n     Topixelx    Topixely                                           unit_ids  \n0  913.989172  919.123750             [6digint, 6digint, 9digint, 6digint….]  \n1  919.657919  913.989172  [593960, 425393486, 425393484, 425607514, 5867...  \n2  919.123750  919.657919  [425393481, 591900, 591901, 591902, 425607519,...  \n3  917.098991  919.123750  [597740, 597741, 598525, 598524, 598026, 59852...  \n4  917.563237  913.989172  [811774, 804440, 804441, 804442, 804443, 80444...  ",
      "text/html": "<div>\n<style scoped>\n    .dataframe tbody tr th:only-of-type {\n        vertical-align: middle;\n    }\n\n    .dataframe tbody tr th {\n        vertical-align: top;\n    }\n\n    .dataframe thead th {\n        text-align: right;\n    }\n</style>\n<table border=\"1\" class=\"dataframe\">\n  <thead>\n    <tr style=\"text-align: right;\">\n      <th></th>\n      <th>indexCAT</th>\n      <th>Id</th>\n      <th>StartDate</th>\n      <th>EndDate</th>\n      <th>randompropernouna</th>\n      <th>randompropernounb</th>\n      <th>category</th>\n      <th>durationmin</th>\n      <th>maxmeasure</th>\n      <th>Startmeasure</th>\n      <th>Endmeasure</th>\n      <th>Frompixelx</th>\n      <th>Frompixely</th>\n      <th>Topixelx</th>\n      <th>Topixely</th>\n      <th>unit_ids</th>\n    </tr>\n  </thead>\n  <tbody>\n    <tr>\n      <th>0</th>\n      <td>78</td>\n      <td>5ff35cc8-f81b-1se4-2wed-32444fsd67h12</td>\n      <td>2022-02-03T23:35:54.000Z</td>\n      <td>2022-02-03T23:59:54.000Z</td>\n      <td>Duck/54-Left</td>\n      <td>Cat/43S</td>\n      <td>one</td>\n      <td>2</td>\n      <td>20.20</td>\n      <td>0.975</td>\n      <td>0.607</td>\n      <td>917.098991</td>\n      <td>919.123750</td>\n      <td>913.989172</td>\n      <td>919.123750</td>\n      <td>[6digint, 6digint, 9digint, 6digint….]</td>\n    </tr>\n    <tr>\n      <th>1</th>\n      <td>321</td>\n      <td>7y1b5cc8-dbf3-5574-78cd-32107fsd67h3</td>\n      <td>2022-02-03T23:54:14.000Z</td>\n      <td>2022-02-04T00:35:54.000Z</td>\n      <td>Duck/54-Left</td>\n      <td>Cat/43S</td>\n      <td>two</td>\n      <td>5</td>\n      <td>6.50</td>\n      <td>0.000</td>\n      <td>0.320</td>\n      <td>917.563237</td>\n      <td>913.989172</td>\n      <td>919.657919</td>\n      <td>913.989172</td>\n      <td>[593960, 425393486, 425393484, 425607514, 5867...</td>\n    </tr>\n    <tr>\n      <th>2</th>\n      <td>6</td>\n      <td>f81b5cc8-d3f3-5671-7832-ps907fsd67h3</td>\n      <td>2022-02-04T00:33:43.000Z</td>\n      <td>2022-02-04T01:05:04.000Z</td>\n      <td>Duck/54-Left</td>\n      <td>Cat/43S</td>\n      <td>four</td>\n      <td>8</td>\n      <td>7.08</td>\n      <td>0.042</td>\n      <td>0.042</td>\n      <td>915.098909</td>\n      <td>919.657919</td>\n      <td>919.123750</td>\n      <td>919.657919</td>\n      <td>[425393481, 591900, 591901, 591902, 425607519,...</td>\n    </tr>\n    <tr>\n      <th>3</th>\n      <td>78</td>\n      <td>z89b5cc8-xcf3-8979-kl54-6tg07fsd67h4</td>\n      <td>2022-02-04T00:55:54.000Z</td>\n      <td>2022-02-04T02:13:44.000Z</td>\n      <td>Duck/54-Left</td>\n      <td>Cat/43S</td>\n      <td>three</td>\n      <td>12</td>\n      <td>3.43</td>\n      <td>0.567</td>\n      <td>0.021</td>\n      <td>913.989172</td>\n      <td>919.123750</td>\n      <td>917.098991</td>\n      <td>919.123750</td>\n      <td>[597740, 597741, 598525, 598524, 598026, 59852...</td>\n    </tr>\n    <tr>\n      <th>4</th>\n      <td>9098</td>\n      <td>k23b5cc8-2f7k-3546-73wd-yu107fsd67h5</td>\n      <td>2022-02-04T02:15:24.000Z</td>\n      <td>2022-02-04T03:35:54.000Z</td>\n      <td>Duck/54-Left</td>\n      <td>Cat/43S</td>\n      <td>one</td>\n      <td>56</td>\n      <td>1.23</td>\n      <td>0.000</td>\n      <td>0.050</td>\n      <td>919.657919</td>\n      <td>917.098991</td>\n      <td>917.563237</td>\n      <td>913.989172</td>\n      <td>[811774, 804440, 804441, 804442, 804443, 80444...</td>\n    </tr>\n  </tbody>\n</table>\n</div>"
     },
     "execution_count": 76,
     "metadata": {},
     "output_type": "execute_result"
    }
   ],
   "source": [
    "import pandas as pd\n",
    "import unidecode\n",
    "\n",
    "df = pd.read_csv('Sample dataset raw.csv')\n",
    "df.head()"
   ]
  },
  {
   "cell_type": "code",
   "execution_count": 77,
   "outputs": [],
   "source": [
    "from datetime import datetime\n",
    "\n",
    "\n",
    "def getOverlapTime(id1, id2):\n",
    "    sDate1 = datetime.strptime(df.iloc[id1][2], \"%Y-%m-%dT%H:%M:%S.%f%z\")\n",
    "    eDate1 = datetime.strptime(df.iloc[id1][3], \"%Y-%m-%dT%H:%M:%S.%f%z\")\n",
    "    sDate2 = datetime.strptime(df.iloc[id2][2], \"%Y-%m-%dT%H:%M:%S.%f%z\")\n",
    "    eDate2 = datetime.strptime(df.iloc[id2][3], \"%Y-%m-%dT%H:%M:%S.%f%z\")\n",
    "\n",
    "    if (sDate1 < sDate2 and eDate1 < sDate2) or (sDate1 > sDate2 and eDate2 < sDate1):\n",
    "        return 0\n",
    "\n",
    "    return (min(eDate1, eDate2) - max(sDate1, sDate2)).seconds / 60\n",
    "\n",
    "\n"
   ],
   "metadata": {
    "collapsed": false,
    "pycharm": {
     "name": "#%%\n"
    }
   }
  },
  {
   "cell_type": "code",
   "execution_count": 52,
   "outputs": [
    {
     "name": "stdout",
     "output_type": "stream",
     "text": [
      "5.666666666666667\n",
      "2.183333333333333\n",
      "9.166666666666666\n",
      "0\n",
      "80.5\n"
     ]
    }
   ],
   "source": [
    "for i in range(5):\n",
    "    print(getOverlapTime(i, i + 1))"
   ],
   "metadata": {
    "collapsed": false,
    "pycharm": {
     "name": "#%%\n"
    }
   }
  },
  {
   "cell_type": "code",
   "execution_count": 67,
   "outputs": [],
   "source": [
    "def getSmallestDuration(id1, id2):\n",
    "    sDate1 = datetime.strptime(df.iloc[id1][2], \"%Y-%m-%dT%H:%M:%S.%f%z\")\n",
    "    eDate1 = datetime.strptime(df.iloc[id1][3], \"%Y-%m-%dT%H:%M:%S.%f%z\")\n",
    "    sDate2 = datetime.strptime(df.iloc[id2][2], \"%Y-%m-%dT%H:%M:%S.%f%z\")\n",
    "    eDate2 = datetime.strptime(df.iloc[id2][3], \"%Y-%m-%dT%H:%M:%S.%f%z\")\n",
    "\n",
    "    if eDate1 - sDate1 < eDate2 - sDate2:\n",
    "        return [id1, id2]\n",
    "\n",
    "    return [id2, id1]"
   ],
   "metadata": {
    "collapsed": false,
    "pycharm": {
     "name": "#%%\n"
    }
   }
  },
  {
   "cell_type": "code",
   "execution_count": 68,
   "outputs": [],
   "source": [
    "def getUnitOverlap(id1, id2):\n",
    "    units1 = unidecode.unidecode(df.iloc[id1].unit_ids.strip()[1:-1]).replace(\" \", \"\").split(\",\")\n",
    "    units2 = unidecode.unidecode(df.iloc[id2].unit_ids.strip()[1:-1]).replace(\" \", \"\").split(\",\")\n",
    "    return len([value for value in units1 if value in units2]) / len(units1)"
   ],
   "metadata": {
    "collapsed": false,
    "pycharm": {
     "name": "#%%\n"
    }
   }
  },
  {
   "cell_type": "markdown",
   "source": [],
   "metadata": {
    "collapsed": false
   }
  },
  {
   "cell_type": "code",
   "execution_count": 69,
   "outputs": [],
   "source": [
    "def isDuplicate(id1, id2):\n",
    "    if getOverlapTime(id1, id2) >= 10 and getUnitOverlap(id1, id2) >= 0.7:\n",
    "        units1 = unidecode.unidecode(df.iloc[id1].unit_ids.strip()[1:-1]).replace(\" \", \"\").split(\",\")\n",
    "        units2 = unidecode.unidecode(df.iloc[id2].unit_ids.strip()[1:-1]).replace(\" \", \"\").split(\",\")\n",
    "\n",
    "        if len(units1) < len(units2):\n",
    "            return [id1, id2]\n",
    "        elif len(units1) > len(units2):\n",
    "            return [id2, id1]\n",
    "\n",
    "        else:\n",
    "            return getSmallestDuration(id1, id2)\n",
    "\n",
    "    return None"
   ],
   "metadata": {
    "collapsed": false,
    "pycharm": {
     "name": "#%%\n"
    }
   }
  },
  {
   "cell_type": "code",
   "execution_count": 70,
   "outputs": [
    {
     "name": "stdout",
     "output_type": "stream",
     "text": [
      "[5, 6, 13]\n",
      "[4, 5, 14]\n"
     ]
    }
   ],
   "source": [
    "duplicates = []\n",
    "duplicates_original = []\n",
    "for i in range(len(df)):\n",
    "    for j in range(i + 1, len(df)):\n",
    "        flag = isDuplicate(i, j)\n",
    "        if flag is None:\n",
    "            continue\n",
    "\n",
    "        if flag not in duplicates:\n",
    "            duplicates.append(flag[0])\n",
    "            duplicates_original.append(flag[1])\n",
    "\n",
    "print(duplicates)\n",
    "print(duplicates_original)"
   ],
   "metadata": {
    "collapsed": false,
    "pycharm": {
     "name": "#%%\n"
    }
   }
  },
  {
   "cell_type": "code",
   "execution_count": 72,
   "outputs": [
    {
     "name": "stdout",
     "output_type": "stream",
     "text": [
      "[0, 0, 0, 0, 0, 1, 1, 0, 0, 0, 0, 0, 0, 1, 0, 0]\n",
      "['', '', '', '', '', 5, 6, '', '', '', '', '', '', 15, '', '']\n",
      "[4, 99, 88, 87, 87, 85, 85, 84, 84, 83, 82, 80, 80, 8, 12, 16]\n"
     ]
    }
   ],
   "source": [
    "is_duplicates_col = []\n",
    "duplicates_col = []\n",
    "num_of_units_col = []\n",
    "for i in range(len(df)):\n",
    "    if i in duplicates:\n",
    "        is_duplicates_col.append(1)\n",
    "\n",
    "        index = duplicates.index(i)\n",
    "        duplicates_col.append(duplicates_original[index]+1)\n",
    "\n",
    "    else:\n",
    "        is_duplicates_col.append(0)\n",
    "        duplicates_col.append(\"\")\n",
    "\n",
    "    units = unidecode.unidecode(df.iloc[i].unit_ids.strip()[1:-1]).replace(\" \", \"\").split(\",\")\n",
    "    num_of_units_col.append(len(units))\n",
    "\n",
    "\n",
    "\n",
    "print(is_duplicates_col)\n",
    "print(duplicates_col)\n",
    "print(num_of_units_col)"
   ],
   "metadata": {
    "collapsed": false,
    "pycharm": {
     "name": "#%%\n"
    }
   }
  },
  {
   "cell_type": "code",
   "execution_count": 78,
   "outputs": [],
   "source": [
    "df.insert(loc=1, column='IsDuplicate', value=is_duplicates_col)\n",
    "df.insert(loc=2, column='RelatedDuplicate', value=duplicates_col)\n",
    "df.insert(loc=3, column='NumberOfUnits', value=num_of_units_col)\n"
   ],
   "metadata": {
    "collapsed": false,
    "pycharm": {
     "name": "#%%\n"
    }
   }
  },
  {
   "cell_type": "code",
   "execution_count": 80,
   "outputs": [
    {
     "data": {
      "text/plain": "    indexCAT  IsDuplicate RelatedDuplicate  NumberOfUnits  \\\n0         78            0                               4   \n1        321            0                              99   \n2          6            0                              88   \n3         78            0                              87   \n4       9098            0                              87   \n5        123            1                5             85   \n6         34            1                6             85   \n7        675            0                              84   \n8        789            0                              84   \n9        445            0                              83   \n10        32            0                              82   \n11       127            0                              80   \n12        87            0                              80   \n13        78            1               15              8   \n14       167            0                              12   \n15      7007            0                              16   \n\n                                        Id                 StartDate  \\\n0    5ff35cc8-f81b-1se4-2wed-32444fsd67h12  2022-02-03T23:35:54.000Z   \n1     7y1b5cc8-dbf3-5574-78cd-32107fsd67h3  2022-02-03T23:54:14.000Z   \n2     f81b5cc8-d3f3-5671-7832-ps907fsd67h3  2022-02-04T00:33:43.000Z   \n3     z89b5cc8-xcf3-8979-kl54-6tg07fsd67h4  2022-02-04T00:55:54.000Z   \n4     k23b5cc8-2f7k-3546-73wd-yu107fsd67h5  2022-02-04T02:15:24.000Z   \n5     8uyb5cc8-dh78-807r-7a3d-31107fsd67h6  2022-02-04T02:07:24.000Z   \n6      q3db5cc8-dww3-2dr4-26d-mn107fsd67h7  2022-02-04T03:35:54.000Z   \n7     5jfb5cc8-db55-4esx-7poj-6f107fsd67h8  2022-02-04T04:06:04.000Z   \n8     2mgb5cc8-pk98-7065-8ild-2s107fsd67h9  2022-02-04T05:32:52.000Z   \n9     f368bcc83wsd-sc54-1s4d-2w107fsd67h10  2022-02-04T06:35:54.000Z   \n10   5cc8f81b-db2w-cv32-hn7d-m1107fsd67h11  2022-02-04T07:15:54.000Z   \n11   dbf35cc8-f81b-1se4-2wed-32444fsd67h12  2022-02-04T08:26:04.000Z   \n12  k64e5cc8-dbf3-5f54-7t6d-3bvc07fsd67h13  2022-02-04T12:35:54.000Z   \n13   fu545cc8-db65-e674-99cd-2w107fsd67h14  2022-02-04T14:58:43.000Z   \n14   kl2l5cc8-d8f3-6kh4-2wcd-3r407fsd67h15  2022-02-04T15:23:18.000Z   \n15   pko85cc8-12f3-3374-782d-3u9y4fsd67h16  2022-02-04T16:36:24.000Z   \n\n                     EndDate randompropernouna randompropernounb category  \\\n0   2022-02-03T23:59:54.000Z      Duck/54-Left           Cat/43S      one   \n1   2022-02-04T00:35:54.000Z      Duck/54-Left           Cat/43S      two   \n2   2022-02-04T01:05:04.000Z      Duck/54-Left           Cat/43S     four   \n3   2022-02-04T02:13:44.000Z      Duck/54-Left           Cat/43S    three   \n4   2022-02-04T03:35:54.000Z      Duck/54-Left           Cat/43S      one   \n5   2022-02-04T03:55:14.000Z      Duck/54-Left           Cat/43S      two   \n6   2022-02-04T04:15:54.000Z      Duck/54-Left           Cat/43S     four   \n7   2022-02-04T04:25:06.000Z      Duck/54-Left           Cat/43S    three   \n8   2022-02-04T06:15:24.000Z      Duck/54-Left           Cat/43S      one   \n9   2022-02-04T07:35:54.000Z      Duck/54-Left           Cat/43S      two   \n10  2022-02-04T08:35:14.000Z      Duck/54-Left           Cat/43S     four   \n11  2022-02-04T11:35:23.000Z      Duck/54-Left           Cat/43S    three   \n12  2022-02-04T18:35:44.000Z      Duck/54-Left           Cat/43S      one   \n13  2022-02-04T15:35:14.000Z      Duck/54-Left           Cat/43S      two   \n14  2022-02-04T17:29:44.000Z      Duck/54-Left           Cat/43S     four   \n15  2022-02-04T16:58:40.000Z      Duck/54-Left           Cat/43S    three   \n\n    durationmin  maxmeasure  Startmeasure  Endmeasure  Frompixelx  Frompixely  \\\n0             2       20.20         0.975       0.607  917.098991  919.123750   \n1             5        6.50         0.000       0.320  917.563237  913.989172   \n2             8        7.08         0.042       0.042  915.098909  919.657919   \n3            12        3.43         0.567       0.021  913.989172  919.123750   \n4            56        1.23         0.000       0.050  919.657919  917.098991   \n5            32       51.80         0.002       0.500  919.123750  917.563237   \n6             4       43.16         0.050       0.452  917.098991  919.123750   \n7             2       16.08         0.765       0.000  917.563237  913.989172   \n8            67       13.20         0.542       0.002  915.098909  919.657919   \n9            54        9.08         0.607       0.050  913.989172  919.123750   \n10           87        6.75         0.320       0.765  919.657919  917.098991   \n11           54       23.04         0.042       0.542  919.123750  917.563237   \n12            3       24.98         0.021       0.607  913.989172  919.123750   \n13           12       18.57         0.050       0.765  919.657919  913.989172   \n14           76       12.09         0.500       0.542  919.123750  919.657919   \n15            7        8.60         0.452       0.607  917.098991  919.123750   \n\n      Topixelx    Topixely                                           unit_ids  \n0   913.989172  919.123750             [6digint, 6digint, 9digint, 6digint….]  \n1   919.657919  913.989172  [593960, 425393486, 425393484, 425607514, 5867...  \n2   919.123750  919.657919  [425393481, 591900, 591901, 591902, 425607519,...  \n3   917.098991  919.123750  [597740, 597741, 598525, 598524, 598026, 59852...  \n4   917.563237  913.989172  [811774, 804440, 804441, 804442, 804443, 80444...  \n5   919.123750  919.657919  [811774, 804440, 804441, 804442, 804443, 80444...  \n6   913.989172  919.123750  [811774, 804440, 804441, 804442, 804443, 80444...  \n7   919.657919  917.098991  [592894, 592897, 592899, 592464, 596941, 59619...  \n8   919.123750  919.123750  [596177, 596182, 596185, 1451279429, 595216, 5...  \n9   913.989172  913.989172  [807481, 492930823, 807489, 807493, 422520083,...  \n10  919.657919  919.657919  [596177, 596182, 596185, 1451279429, 595216, 5...  \n11  919.123750  919.123750  [807481, 492930823, 807489, 807493, 422520083,...  \n12  917.098991  913.989172  [807481, 492930823, 807489, 807493, 422520083,...  \n13  917.563237  919.657919  [367892, 894532, 123098675, 324885, 493021, 43...  \n14  919.123750  919.123750  [367892, 894532,  658234908, 235478, 549302, 1...  \n15  913.989172  917.098991  [367892, 894532, 123098675, 324885, 493021, 43...  ",
      "text/html": "<div>\n<style scoped>\n    .dataframe tbody tr th:only-of-type {\n        vertical-align: middle;\n    }\n\n    .dataframe tbody tr th {\n        vertical-align: top;\n    }\n\n    .dataframe thead th {\n        text-align: right;\n    }\n</style>\n<table border=\"1\" class=\"dataframe\">\n  <thead>\n    <tr style=\"text-align: right;\">\n      <th></th>\n      <th>indexCAT</th>\n      <th>IsDuplicate</th>\n      <th>RelatedDuplicate</th>\n      <th>NumberOfUnits</th>\n      <th>Id</th>\n      <th>StartDate</th>\n      <th>EndDate</th>\n      <th>randompropernouna</th>\n      <th>randompropernounb</th>\n      <th>category</th>\n      <th>durationmin</th>\n      <th>maxmeasure</th>\n      <th>Startmeasure</th>\n      <th>Endmeasure</th>\n      <th>Frompixelx</th>\n      <th>Frompixely</th>\n      <th>Topixelx</th>\n      <th>Topixely</th>\n      <th>unit_ids</th>\n    </tr>\n  </thead>\n  <tbody>\n    <tr>\n      <th>0</th>\n      <td>78</td>\n      <td>0</td>\n      <td></td>\n      <td>4</td>\n      <td>5ff35cc8-f81b-1se4-2wed-32444fsd67h12</td>\n      <td>2022-02-03T23:35:54.000Z</td>\n      <td>2022-02-03T23:59:54.000Z</td>\n      <td>Duck/54-Left</td>\n      <td>Cat/43S</td>\n      <td>one</td>\n      <td>2</td>\n      <td>20.20</td>\n      <td>0.975</td>\n      <td>0.607</td>\n      <td>917.098991</td>\n      <td>919.123750</td>\n      <td>913.989172</td>\n      <td>919.123750</td>\n      <td>[6digint, 6digint, 9digint, 6digint….]</td>\n    </tr>\n    <tr>\n      <th>1</th>\n      <td>321</td>\n      <td>0</td>\n      <td></td>\n      <td>99</td>\n      <td>7y1b5cc8-dbf3-5574-78cd-32107fsd67h3</td>\n      <td>2022-02-03T23:54:14.000Z</td>\n      <td>2022-02-04T00:35:54.000Z</td>\n      <td>Duck/54-Left</td>\n      <td>Cat/43S</td>\n      <td>two</td>\n      <td>5</td>\n      <td>6.50</td>\n      <td>0.000</td>\n      <td>0.320</td>\n      <td>917.563237</td>\n      <td>913.989172</td>\n      <td>919.657919</td>\n      <td>913.989172</td>\n      <td>[593960, 425393486, 425393484, 425607514, 5867...</td>\n    </tr>\n    <tr>\n      <th>2</th>\n      <td>6</td>\n      <td>0</td>\n      <td></td>\n      <td>88</td>\n      <td>f81b5cc8-d3f3-5671-7832-ps907fsd67h3</td>\n      <td>2022-02-04T00:33:43.000Z</td>\n      <td>2022-02-04T01:05:04.000Z</td>\n      <td>Duck/54-Left</td>\n      <td>Cat/43S</td>\n      <td>four</td>\n      <td>8</td>\n      <td>7.08</td>\n      <td>0.042</td>\n      <td>0.042</td>\n      <td>915.098909</td>\n      <td>919.657919</td>\n      <td>919.123750</td>\n      <td>919.657919</td>\n      <td>[425393481, 591900, 591901, 591902, 425607519,...</td>\n    </tr>\n    <tr>\n      <th>3</th>\n      <td>78</td>\n      <td>0</td>\n      <td></td>\n      <td>87</td>\n      <td>z89b5cc8-xcf3-8979-kl54-6tg07fsd67h4</td>\n      <td>2022-02-04T00:55:54.000Z</td>\n      <td>2022-02-04T02:13:44.000Z</td>\n      <td>Duck/54-Left</td>\n      <td>Cat/43S</td>\n      <td>three</td>\n      <td>12</td>\n      <td>3.43</td>\n      <td>0.567</td>\n      <td>0.021</td>\n      <td>913.989172</td>\n      <td>919.123750</td>\n      <td>917.098991</td>\n      <td>919.123750</td>\n      <td>[597740, 597741, 598525, 598524, 598026, 59852...</td>\n    </tr>\n    <tr>\n      <th>4</th>\n      <td>9098</td>\n      <td>0</td>\n      <td></td>\n      <td>87</td>\n      <td>k23b5cc8-2f7k-3546-73wd-yu107fsd67h5</td>\n      <td>2022-02-04T02:15:24.000Z</td>\n      <td>2022-02-04T03:35:54.000Z</td>\n      <td>Duck/54-Left</td>\n      <td>Cat/43S</td>\n      <td>one</td>\n      <td>56</td>\n      <td>1.23</td>\n      <td>0.000</td>\n      <td>0.050</td>\n      <td>919.657919</td>\n      <td>917.098991</td>\n      <td>917.563237</td>\n      <td>913.989172</td>\n      <td>[811774, 804440, 804441, 804442, 804443, 80444...</td>\n    </tr>\n    <tr>\n      <th>5</th>\n      <td>123</td>\n      <td>1</td>\n      <td>5</td>\n      <td>85</td>\n      <td>8uyb5cc8-dh78-807r-7a3d-31107fsd67h6</td>\n      <td>2022-02-04T02:07:24.000Z</td>\n      <td>2022-02-04T03:55:14.000Z</td>\n      <td>Duck/54-Left</td>\n      <td>Cat/43S</td>\n      <td>two</td>\n      <td>32</td>\n      <td>51.80</td>\n      <td>0.002</td>\n      <td>0.500</td>\n      <td>919.123750</td>\n      <td>917.563237</td>\n      <td>919.123750</td>\n      <td>919.657919</td>\n      <td>[811774, 804440, 804441, 804442, 804443, 80444...</td>\n    </tr>\n    <tr>\n      <th>6</th>\n      <td>34</td>\n      <td>1</td>\n      <td>6</td>\n      <td>85</td>\n      <td>q3db5cc8-dww3-2dr4-26d-mn107fsd67h7</td>\n      <td>2022-02-04T03:35:54.000Z</td>\n      <td>2022-02-04T04:15:54.000Z</td>\n      <td>Duck/54-Left</td>\n      <td>Cat/43S</td>\n      <td>four</td>\n      <td>4</td>\n      <td>43.16</td>\n      <td>0.050</td>\n      <td>0.452</td>\n      <td>917.098991</td>\n      <td>919.123750</td>\n      <td>913.989172</td>\n      <td>919.123750</td>\n      <td>[811774, 804440, 804441, 804442, 804443, 80444...</td>\n    </tr>\n    <tr>\n      <th>7</th>\n      <td>675</td>\n      <td>0</td>\n      <td></td>\n      <td>84</td>\n      <td>5jfb5cc8-db55-4esx-7poj-6f107fsd67h8</td>\n      <td>2022-02-04T04:06:04.000Z</td>\n      <td>2022-02-04T04:25:06.000Z</td>\n      <td>Duck/54-Left</td>\n      <td>Cat/43S</td>\n      <td>three</td>\n      <td>2</td>\n      <td>16.08</td>\n      <td>0.765</td>\n      <td>0.000</td>\n      <td>917.563237</td>\n      <td>913.989172</td>\n      <td>919.657919</td>\n      <td>917.098991</td>\n      <td>[592894, 592897, 592899, 592464, 596941, 59619...</td>\n    </tr>\n    <tr>\n      <th>8</th>\n      <td>789</td>\n      <td>0</td>\n      <td></td>\n      <td>84</td>\n      <td>2mgb5cc8-pk98-7065-8ild-2s107fsd67h9</td>\n      <td>2022-02-04T05:32:52.000Z</td>\n      <td>2022-02-04T06:15:24.000Z</td>\n      <td>Duck/54-Left</td>\n      <td>Cat/43S</td>\n      <td>one</td>\n      <td>67</td>\n      <td>13.20</td>\n      <td>0.542</td>\n      <td>0.002</td>\n      <td>915.098909</td>\n      <td>919.657919</td>\n      <td>919.123750</td>\n      <td>919.123750</td>\n      <td>[596177, 596182, 596185, 1451279429, 595216, 5...</td>\n    </tr>\n    <tr>\n      <th>9</th>\n      <td>445</td>\n      <td>0</td>\n      <td></td>\n      <td>83</td>\n      <td>f368bcc83wsd-sc54-1s4d-2w107fsd67h10</td>\n      <td>2022-02-04T06:35:54.000Z</td>\n      <td>2022-02-04T07:35:54.000Z</td>\n      <td>Duck/54-Left</td>\n      <td>Cat/43S</td>\n      <td>two</td>\n      <td>54</td>\n      <td>9.08</td>\n      <td>0.607</td>\n      <td>0.050</td>\n      <td>913.989172</td>\n      <td>919.123750</td>\n      <td>913.989172</td>\n      <td>913.989172</td>\n      <td>[807481, 492930823, 807489, 807493, 422520083,...</td>\n    </tr>\n    <tr>\n      <th>10</th>\n      <td>32</td>\n      <td>0</td>\n      <td></td>\n      <td>82</td>\n      <td>5cc8f81b-db2w-cv32-hn7d-m1107fsd67h11</td>\n      <td>2022-02-04T07:15:54.000Z</td>\n      <td>2022-02-04T08:35:14.000Z</td>\n      <td>Duck/54-Left</td>\n      <td>Cat/43S</td>\n      <td>four</td>\n      <td>87</td>\n      <td>6.75</td>\n      <td>0.320</td>\n      <td>0.765</td>\n      <td>919.657919</td>\n      <td>917.098991</td>\n      <td>919.657919</td>\n      <td>919.657919</td>\n      <td>[596177, 596182, 596185, 1451279429, 595216, 5...</td>\n    </tr>\n    <tr>\n      <th>11</th>\n      <td>127</td>\n      <td>0</td>\n      <td></td>\n      <td>80</td>\n      <td>dbf35cc8-f81b-1se4-2wed-32444fsd67h12</td>\n      <td>2022-02-04T08:26:04.000Z</td>\n      <td>2022-02-04T11:35:23.000Z</td>\n      <td>Duck/54-Left</td>\n      <td>Cat/43S</td>\n      <td>three</td>\n      <td>54</td>\n      <td>23.04</td>\n      <td>0.042</td>\n      <td>0.542</td>\n      <td>919.123750</td>\n      <td>917.563237</td>\n      <td>919.123750</td>\n      <td>919.123750</td>\n      <td>[807481, 492930823, 807489, 807493, 422520083,...</td>\n    </tr>\n    <tr>\n      <th>12</th>\n      <td>87</td>\n      <td>0</td>\n      <td></td>\n      <td>80</td>\n      <td>k64e5cc8-dbf3-5f54-7t6d-3bvc07fsd67h13</td>\n      <td>2022-02-04T12:35:54.000Z</td>\n      <td>2022-02-04T18:35:44.000Z</td>\n      <td>Duck/54-Left</td>\n      <td>Cat/43S</td>\n      <td>one</td>\n      <td>3</td>\n      <td>24.98</td>\n      <td>0.021</td>\n      <td>0.607</td>\n      <td>913.989172</td>\n      <td>919.123750</td>\n      <td>917.098991</td>\n      <td>913.989172</td>\n      <td>[807481, 492930823, 807489, 807493, 422520083,...</td>\n    </tr>\n    <tr>\n      <th>13</th>\n      <td>78</td>\n      <td>1</td>\n      <td>15</td>\n      <td>8</td>\n      <td>fu545cc8-db65-e674-99cd-2w107fsd67h14</td>\n      <td>2022-02-04T14:58:43.000Z</td>\n      <td>2022-02-04T15:35:14.000Z</td>\n      <td>Duck/54-Left</td>\n      <td>Cat/43S</td>\n      <td>two</td>\n      <td>12</td>\n      <td>18.57</td>\n      <td>0.050</td>\n      <td>0.765</td>\n      <td>919.657919</td>\n      <td>913.989172</td>\n      <td>917.563237</td>\n      <td>919.657919</td>\n      <td>[367892, 894532, 123098675, 324885, 493021, 43...</td>\n    </tr>\n    <tr>\n      <th>14</th>\n      <td>167</td>\n      <td>0</td>\n      <td></td>\n      <td>12</td>\n      <td>kl2l5cc8-d8f3-6kh4-2wcd-3r407fsd67h15</td>\n      <td>2022-02-04T15:23:18.000Z</td>\n      <td>2022-02-04T17:29:44.000Z</td>\n      <td>Duck/54-Left</td>\n      <td>Cat/43S</td>\n      <td>four</td>\n      <td>76</td>\n      <td>12.09</td>\n      <td>0.500</td>\n      <td>0.542</td>\n      <td>919.123750</td>\n      <td>919.657919</td>\n      <td>919.123750</td>\n      <td>919.123750</td>\n      <td>[367892, 894532,  658234908, 235478, 549302, 1...</td>\n    </tr>\n    <tr>\n      <th>15</th>\n      <td>7007</td>\n      <td>0</td>\n      <td></td>\n      <td>16</td>\n      <td>pko85cc8-12f3-3374-782d-3u9y4fsd67h16</td>\n      <td>2022-02-04T16:36:24.000Z</td>\n      <td>2022-02-04T16:58:40.000Z</td>\n      <td>Duck/54-Left</td>\n      <td>Cat/43S</td>\n      <td>three</td>\n      <td>7</td>\n      <td>8.60</td>\n      <td>0.452</td>\n      <td>0.607</td>\n      <td>917.098991</td>\n      <td>919.123750</td>\n      <td>913.989172</td>\n      <td>917.098991</td>\n      <td>[367892, 894532, 123098675, 324885, 493021, 43...</td>\n    </tr>\n  </tbody>\n</table>\n</div>"
     },
     "execution_count": 80,
     "metadata": {},
     "output_type": "execute_result"
    }
   ],
   "source": [
    "df"
   ],
   "metadata": {
    "collapsed": false,
    "pycharm": {
     "name": "#%%\n"
    }
   }
  },
  {
   "cell_type": "code",
   "execution_count": 83,
   "outputs": [],
   "source": [
    "df.to_csv(\"output.csv\", sep=',', encoding='utf-8', index=False)"
   ],
   "metadata": {
    "collapsed": false,
    "pycharm": {
     "name": "#%%\n"
    }
   }
  },
  {
   "cell_type": "code",
   "execution_count": null,
   "outputs": [],
   "source": [],
   "metadata": {
    "collapsed": false,
    "pycharm": {
     "name": "#%%\n"
    }
   }
  }
 ],
 "metadata": {
  "kernelspec": {
   "display_name": "Python 3",
   "language": "python",
   "name": "python3"
  },
  "language_info": {
   "codemirror_mode": {
    "name": "ipython",
    "version": 2
   },
   "file_extension": ".py",
   "mimetype": "text/x-python",
   "name": "python",
   "nbconvert_exporter": "python",
   "pygments_lexer": "ipython2",
   "version": "2.7.6"
  }
 },
 "nbformat": 4,
 "nbformat_minor": 0
}