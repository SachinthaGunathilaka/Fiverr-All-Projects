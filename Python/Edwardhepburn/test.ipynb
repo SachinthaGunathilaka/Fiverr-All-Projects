{
 "cells": [
  {
   "cell_type": "code",
   "execution_count": 1,
   "metadata": {
    "collapsed": true
   },
   "outputs": [],
   "source": []
  },
  {
   "cell_type": "code",
   "execution_count": 86,
   "outputs": [],
   "source": [
    "def getDetails(url, df2):\n",
    "    driver.get(line)\n",
    "    time.sleep(3)\n",
    "    soup = BeautifulSoup(driver.page_source, \"lxml\")\n",
    "\n",
    "    name = soup.find(\"h1\", {\"class\": \"text-heading-xlarge inline t-24 v-align-middle break-words\"}).text.strip()\n",
    "    job_title = soup.find(\"div\", {\"class\": \"text-body-medium break-words\"}).text.strip()\n",
    "    location = soup.find(\"div\", {\"class\": \"pv-text-details__left-panel mt2\"}).find(\"span\").text.strip()\n",
    "\n",
    "    headers = soup.findAll(\"div\", {\"class\": \"pvs-header__container\"})\n",
    "\n",
    "    about_text = \"\"\n",
    "    exp_data = \"\"\n",
    "    edu_data = \"\"\n",
    "    for header in headers:\n",
    "        title = header.find(\"h2\", {\"class\": \"pvs-header__title text-heading-large\"}).find(\"span\").text.lower()\n",
    "\n",
    "        if title == \"about\":\n",
    "            about_text = header.findNext(\"div\", {\"class\": \"display-flex ph5 pv3\"}).text.strip()\n",
    "\n",
    "        elif title == \"experience\":\n",
    "            experiences_section = header.findNext(\"div\", {\"class\": \"pvs-list__outer-container\"})\n",
    "            experiences = experiences_section.findAll(\"div\", {\"class\": \"display-flex flex-row justify-space-between\"})\n",
    "\n",
    "\n",
    "\n",
    "\n",
    "            for experience in experiences:\n",
    "                exp_result = experience.find(\"div\", {\"class\": \"display-flex align-items-center\"}).find(\"span\").find(\"span\").text.strip()\n",
    "\n",
    "                for j in experience.find(\"div\").find_all(\"span\", recursive=False):\n",
    "                    exp_result += \"\\n\" + j.find(\"span\").text.strip()\n",
    "\n",
    "                exp_data += exp_result + \"\\n\\n\"\n",
    "\n",
    "                # exp =\n",
    "                # experience.find(\"div\", {\"class\": \"display-flex align-items-center\"}).find(\"span\").find(\"span\").text.strip()\n",
    "                #\n",
    "                # exp += \", \" + experience.find(\"span\", {\"class\": \"t-14 t-normal\"}).find(\"span\").text.strip()\n",
    "                # # for inner in experience.find(\"div\").find_all(recursive=False):\n",
    "                # #     print(inner.text.strip())\n",
    "                #\n",
    "                # print(exp)\n",
    "\n",
    "        elif title == \"education\":\n",
    "            edu_section = header.findNext(\"div\", {\"class\": \"pvs-list__outer-container\"})\n",
    "            edus = edu_section.findAll(\"div\", {\"class\": \"display-flex flex-row justify-space-between\"})\n",
    "\n",
    "            for edu in edus:\n",
    "                edu_result = edu.find(\"div\", {\"class\": \"display-flex align-items-center\"}).find(\"span\").find(\"span\").text.strip()\n",
    "                for j in edu.find(\"a\").find_all(\"span\", recursive=False):\n",
    "                    edu_result += \"\\n\" + j.find(\"span\").text.strip()\n",
    "\n",
    "                edu_data += edu_result + \"\\n\\n\"\n",
    "\n",
    "\n",
    "    new_row = {}\n",
    "    new_row[\"Name\"] = name\n",
    "    new_row[\"Location\"] = location\n",
    "    new_row[\"Job Title\"] = job_title\n",
    "    new_row[\"About\"] = about_text\n",
    "    new_row[\"Experiences\"] = exp_data\n",
    "    new_row[\"Education\"] = edu_data\n",
    "\n",
    "    df2 = df2.append(new_row, ignore_index = True)\n",
    "    return df2"
   ],
   "metadata": {
    "collapsed": false,
    "pycharm": {
     "name": "#%%\n"
    }
   }
  },
  {
   "cell_type": "code",
   "execution_count": 87,
   "outputs": [],
   "source": [
    "import time\n",
    "import threading\n",
    "from selenium import webdriver\n",
    "from shutil import which\n",
    "from bs4 import BeautifulSoup\n",
    "from selenium.webdriver.common.keys import Keys\n",
    "from selenium.webdriver.chrome.options import Options\n",
    "import pandas as pd\n",
    "\n",
    "columns = [\"Name\", \"Location\", \"Job Title\", \"About\", \"Experiences\", \"Education\"]\n",
    "df2 = pd.DataFrame(columns=columns)\n",
    "\n",
    "# outfile_name = \"output.txt\"\n",
    "# infile_name = \"input.txt\"\n",
    "\n",
    "username = \"sachi.lifef@gmail.com\"\n",
    "password = \"Sachi@023\"\n",
    "website_url = \"https://www.linkedin.com\"\n",
    "\n",
    "chrome_path = which(\"chromedriver\")\n",
    "chrome_options = Options()\n",
    "\n",
    "driver = webdriver.Chrome(executable_path=chrome_path, options=chrome_options)\n",
    "driver.delete_all_cookies()\n",
    "\n",
    "driver.get(website_url)\n",
    "time.sleep(1)\n",
    "\n",
    "# print(driver.page_source)\n",
    "username_field = driver.find_element_by_id(\"session_key\")\n",
    "username_field.send_keys(username)\n",
    "\n",
    "password_field = driver.find_element_by_id(\"session_password\")\n",
    "password_field.send_keys(password)\n",
    "\n",
    "sign_in_btn = driver.find_element_by_class_name(\"sign-in-form__submit-button\")\n",
    "sign_in_btn.send_keys(Keys.ENTER)\n",
    "\n",
    "time.sleep(2)\n",
    "f = open(\"input_urls.txt\")\n",
    "lines = f.readlines()\n",
    "soup = \"\"\n",
    "for line in lines:\n",
    "    line = line.strip()\n",
    "\n",
    "    if len(line) == 0:\n",
    "        continue\n",
    "\n",
    "    df2 = getDetails(line, df2)\n",
    "\n",
    "df2.to_excel(\"linkedin.xlsx\")"
   ],
   "metadata": {
    "collapsed": false,
    "pycharm": {
     "name": "#%%\n"
    }
   }
  },
  {
   "cell_type": "code",
   "execution_count": null,
   "outputs": [],
   "source": [],
   "metadata": {
    "collapsed": false,
    "pycharm": {
     "name": "#%%\n"
    }
   }
  }
 ],
 "metadata": {
  "kernelspec": {
   "display_name": "Python 3",
   "language": "python",
   "name": "python3"
  },
  "language_info": {
   "codemirror_mode": {
    "name": "ipython",
    "version": 2
   },
   "file_extension": ".py",
   "mimetype": "text/x-python",
   "name": "python",
   "nbconvert_exporter": "python",
   "pygments_lexer": "ipython2",
   "version": "2.7.6"
  }
 },
 "nbformat": 4,
 "nbformat_minor": 0
}