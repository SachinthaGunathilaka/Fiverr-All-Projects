{
 "cells": [
  {
   "cell_type": "markdown",
   "metadata": {},
   "source": [
    "# Energy Analysis"
   ]
  },
  {
   "cell_type": "markdown",
   "metadata": {},
   "source": [
    "KATE expects your code to define variables with specific names that correspond to certain things we are interested in.\n",
    "\n",
    "KATE will run your notebook from top to bottom and check the latest value of those variables, so make sure you don't overwrite them.\n",
    "\n",
    "* Remember to uncomment the line assigning the variable to your answer and don't change the variable or function names.\n",
    "* Use copies of the original or previous DataFrames to make sure you do not overwrite them by mistake.\n",
    "\n",
    "You will find instructions below about how to define each variable.\n",
    "\n",
    "Once you're happy with your code, upload your notebook to KATE to check your feedback."
   ]
  },
  {
   "cell_type": "markdown",
   "metadata": {},
   "source": [
    "Run the cell below first, to import `pandas`, and `matplotlib` `pyplot`. The `matplotlib` code isn't important, but prevents some unnecessary warnings from showing."
   ]
  },
  {
   "cell_type": "code",
   "execution_count": 178,
   "metadata": {
    "inputHidden": false,
    "outputHidden": false
   },
   "outputs": [],
   "source": [
    "import pandas as pd\n",
    "\n",
    "from matplotlib import pyplot as plt\n",
    "from matplotlib.axes._axes import _log as matplotlib_axes_logger\n",
    "\n",
    "matplotlib_axes_logger.setLevel('ERROR')"
   ]
  },
  {
   "cell_type": "markdown",
   "metadata": {},
   "source": [
    "This assignment will focus on data visualisation using pandas. \n",
    "\n",
    "We have written some code below to do some initial collation and cleaning of the datasets we'll be working with - see if you can follow along and understand what each line is doing.\n",
    "\n",
    "### Data collection\n",
    "\n",
    "Run the following cell to import and concatenate the datasets, assigning the result to `data`:"
   ]
  },
  {
   "cell_type": "code",
   "execution_count": 179,
   "metadata": {
    "scrolled": true
   },
   "outputs": [],
   "source": [
    "df1 = pd.read_csv('data/heating_2018.csv')\n",
    "df2 = pd.read_csv('data/hot_water_2018.csv')\n",
    "df3 = pd.read_csv('data/catering_2018.csv')\n",
    "data = pd.concat([df1, df2, df3], keys=['Heating', 'Hot Water', 'Catering']).reset_index(level=[0])"
   ]
  },
  {
   "cell_type": "markdown",
   "metadata": {},
   "source": [
    "Running `data.head()` will show us the top of our DataFrame:"
   ]
  },
  {
   "cell_type": "code",
   "execution_count": 180,
   "metadata": {},
   "outputs": [
    {
     "data": {
      "text/plain": "   level_0                       Sector                 Sub-Sector  \\\n0  Heating  Arts, leisure and community  Clubs & community centres   \n1  Heating  Arts, leisure and community            Leisure Centres   \n2  Heating  Arts, leisure and community                    Museums   \n3  Heating  Arts, leisure and community          Places of Worship   \n4  Heating  Arts, leisure and community                   Theatres   \n\n   Electricity  Natural Gas  Oil  District Heating  Other  \n0           14          139   60               8.0    NaN  \n1            5          159    7              18.0    NaN  \n2            2           12    3               0.0    NaN  \n3           29          377  110              13.0    NaN  \n4            1           35    2               0.0    NaN  ",
      "text/html": "<div>\n<style scoped>\n    .dataframe tbody tr th:only-of-type {\n        vertical-align: middle;\n    }\n\n    .dataframe tbody tr th {\n        vertical-align: top;\n    }\n\n    .dataframe thead th {\n        text-align: right;\n    }\n</style>\n<table border=\"1\" class=\"dataframe\">\n  <thead>\n    <tr style=\"text-align: right;\">\n      <th></th>\n      <th>level_0</th>\n      <th>Sector</th>\n      <th>Sub-Sector</th>\n      <th>Electricity</th>\n      <th>Natural Gas</th>\n      <th>Oil</th>\n      <th>District Heating</th>\n      <th>Other</th>\n    </tr>\n  </thead>\n  <tbody>\n    <tr>\n      <th>0</th>\n      <td>Heating</td>\n      <td>Arts, leisure and community</td>\n      <td>Clubs &amp; community centres</td>\n      <td>14</td>\n      <td>139</td>\n      <td>60</td>\n      <td>8.0</td>\n      <td>NaN</td>\n    </tr>\n    <tr>\n      <th>1</th>\n      <td>Heating</td>\n      <td>Arts, leisure and community</td>\n      <td>Leisure Centres</td>\n      <td>5</td>\n      <td>159</td>\n      <td>7</td>\n      <td>18.0</td>\n      <td>NaN</td>\n    </tr>\n    <tr>\n      <th>2</th>\n      <td>Heating</td>\n      <td>Arts, leisure and community</td>\n      <td>Museums</td>\n      <td>2</td>\n      <td>12</td>\n      <td>3</td>\n      <td>0.0</td>\n      <td>NaN</td>\n    </tr>\n    <tr>\n      <th>3</th>\n      <td>Heating</td>\n      <td>Arts, leisure and community</td>\n      <td>Places of Worship</td>\n      <td>29</td>\n      <td>377</td>\n      <td>110</td>\n      <td>13.0</td>\n      <td>NaN</td>\n    </tr>\n    <tr>\n      <th>4</th>\n      <td>Heating</td>\n      <td>Arts, leisure and community</td>\n      <td>Theatres</td>\n      <td>1</td>\n      <td>35</td>\n      <td>2</td>\n      <td>0.0</td>\n      <td>NaN</td>\n    </tr>\n  </tbody>\n</table>\n</div>"
     },
     "execution_count": 180,
     "metadata": {},
     "output_type": "execute_result"
    }
   ],
   "source": [
    "data.head()"
   ]
  },
  {
   "cell_type": "markdown",
   "metadata": {},
   "source": [
    "### Data processing"
   ]
  },
  {
   "cell_type": "markdown",
   "metadata": {},
   "source": [
    "**Q1.** First of all, let's tidy up the `data` DataFrame:\n",
    "\n",
    "- Use the `.rename()` method to change the name of the `level_0` column to `Use`\n",
    "- Use the `.fillna()` method to update all `NaN` values to `0`\n",
    "- Use the `astype()` method to convert the numerical columns to integers\n",
    "- Create a new column `Total` which contains the sum of the other numerical columns\n",
    "\n",
    "KATE will evaluate your updated version of `data` to check these changes have been made.\n"
   ]
  },
  {
   "cell_type": "code",
   "execution_count": 181,
   "outputs": [
    {
     "data": {
      "text/plain": "         Use                       Sector                  Sub-Sector  \\\n0    Heating  Arts, leisure and community   Clubs & community centres   \n1    Heating  Arts, leisure and community             Leisure Centres   \n2    Heating  Arts, leisure and community                     Museums   \n3    Heating  Arts, leisure and community           Places of Worship   \n4    Heating  Arts, leisure and community                    Theatres   \n..       ...                          ...                         ...   \n31  Catering                       Retail                 Small shops   \n32  Catering                      Storage                 Cold Stores   \n33  Catering                      Storage  Large Distribution Centres   \n34  Catering                      Storage                      Stores   \n35  Catering                      Storage                  Warehouses   \n\n    Electricity  Natural Gas  Oil  District Heating  Other  Total  \n0            14          139   60                 8      0    221  \n1             5          159    7                18      0    189  \n2             2           12    3                 0      0     17  \n3            29          377  110                13      0    529  \n4             1           35    2                 0      0     38  \n..          ...          ...  ...               ...    ...    ...  \n31            9            2   21                 0      0     32  \n32            0            0    0                 0      0      0  \n33            3            4    1                 0      0      8  \n34            1            0    0                 0      0      1  \n35            2            1    0                 0      0      3  \n\n[108 rows x 9 columns]",
      "text/html": "<div>\n<style scoped>\n    .dataframe tbody tr th:only-of-type {\n        vertical-align: middle;\n    }\n\n    .dataframe tbody tr th {\n        vertical-align: top;\n    }\n\n    .dataframe thead th {\n        text-align: right;\n    }\n</style>\n<table border=\"1\" class=\"dataframe\">\n  <thead>\n    <tr style=\"text-align: right;\">\n      <th></th>\n      <th>Use</th>\n      <th>Sector</th>\n      <th>Sub-Sector</th>\n      <th>Electricity</th>\n      <th>Natural Gas</th>\n      <th>Oil</th>\n      <th>District Heating</th>\n      <th>Other</th>\n      <th>Total</th>\n    </tr>\n  </thead>\n  <tbody>\n    <tr>\n      <th>0</th>\n      <td>Heating</td>\n      <td>Arts, leisure and community</td>\n      <td>Clubs &amp; community centres</td>\n      <td>14</td>\n      <td>139</td>\n      <td>60</td>\n      <td>8</td>\n      <td>0</td>\n      <td>221</td>\n    </tr>\n    <tr>\n      <th>1</th>\n      <td>Heating</td>\n      <td>Arts, leisure and community</td>\n      <td>Leisure Centres</td>\n      <td>5</td>\n      <td>159</td>\n      <td>7</td>\n      <td>18</td>\n      <td>0</td>\n      <td>189</td>\n    </tr>\n    <tr>\n      <th>2</th>\n      <td>Heating</td>\n      <td>Arts, leisure and community</td>\n      <td>Museums</td>\n      <td>2</td>\n      <td>12</td>\n      <td>3</td>\n      <td>0</td>\n      <td>0</td>\n      <td>17</td>\n    </tr>\n    <tr>\n      <th>3</th>\n      <td>Heating</td>\n      <td>Arts, leisure and community</td>\n      <td>Places of Worship</td>\n      <td>29</td>\n      <td>377</td>\n      <td>110</td>\n      <td>13</td>\n      <td>0</td>\n      <td>529</td>\n    </tr>\n    <tr>\n      <th>4</th>\n      <td>Heating</td>\n      <td>Arts, leisure and community</td>\n      <td>Theatres</td>\n      <td>1</td>\n      <td>35</td>\n      <td>2</td>\n      <td>0</td>\n      <td>0</td>\n      <td>38</td>\n    </tr>\n    <tr>\n      <th>...</th>\n      <td>...</td>\n      <td>...</td>\n      <td>...</td>\n      <td>...</td>\n      <td>...</td>\n      <td>...</td>\n      <td>...</td>\n      <td>...</td>\n      <td>...</td>\n    </tr>\n    <tr>\n      <th>31</th>\n      <td>Catering</td>\n      <td>Retail</td>\n      <td>Small shops</td>\n      <td>9</td>\n      <td>2</td>\n      <td>21</td>\n      <td>0</td>\n      <td>0</td>\n      <td>32</td>\n    </tr>\n    <tr>\n      <th>32</th>\n      <td>Catering</td>\n      <td>Storage</td>\n      <td>Cold Stores</td>\n      <td>0</td>\n      <td>0</td>\n      <td>0</td>\n      <td>0</td>\n      <td>0</td>\n      <td>0</td>\n    </tr>\n    <tr>\n      <th>33</th>\n      <td>Catering</td>\n      <td>Storage</td>\n      <td>Large Distribution Centres</td>\n      <td>3</td>\n      <td>4</td>\n      <td>1</td>\n      <td>0</td>\n      <td>0</td>\n      <td>8</td>\n    </tr>\n    <tr>\n      <th>34</th>\n      <td>Catering</td>\n      <td>Storage</td>\n      <td>Stores</td>\n      <td>1</td>\n      <td>0</td>\n      <td>0</td>\n      <td>0</td>\n      <td>0</td>\n      <td>1</td>\n    </tr>\n    <tr>\n      <th>35</th>\n      <td>Catering</td>\n      <td>Storage</td>\n      <td>Warehouses</td>\n      <td>2</td>\n      <td>1</td>\n      <td>0</td>\n      <td>0</td>\n      <td>0</td>\n      <td>3</td>\n    </tr>\n  </tbody>\n</table>\n<p>108 rows × 9 columns</p>\n</div>"
     },
     "execution_count": 181,
     "metadata": {},
     "output_type": "execute_result"
    }
   ],
   "source": [
    "#add your code to update the `data` DataFrame below\n",
    "data = data.rename(columns={\"level_0\": \"Use\"})\n",
    "\n",
    "data = data.fillna(0)\n",
    "\n",
    "convert_dict = {'Electricity': int,\n",
    "                'Natural Gas': int,\n",
    "                'Oil': int,\n",
    "                'District Heating': int,\n",
    "                'Other': int\n",
    "                }\n",
    "data = data.astype(convert_dict)\n",
    "\n",
    "total_df = data.iloc[:, 3:].sum(axis=1)\n",
    "data.insert(8, 'Total', total_df)\n",
    "\n",
    "data\n"
   ],
   "metadata": {
    "collapsed": false,
    "pycharm": {
     "name": "#%%\n"
    }
   }
  },
  {
   "cell_type": "markdown",
   "metadata": {},
   "source": [
    "### Data grouping"
   ]
  },
  {
   "cell_type": "markdown",
   "metadata": {},
   "source": [
    "**Q2.** Create a new DataFrame called `ss`, using `.groupby()` to group `data` by `Sub-Sector`, which contains the `.sum()` for each of the numerical (energy type) columns for each group:"
   ]
  },
  {
   "cell_type": "code",
   "execution_count": 182,
   "metadata": {},
   "outputs": [
    {
     "data": {
      "text/plain": "                                 Electricity  Natural Gas  Oil  \\\nSub-Sector                                                       \nCafes                                     55           44   25   \nClubs & community centres                 29          166   84   \nCold Stores                                0            2    0   \nFire and Ambulance stations                5           75    9   \nHairdressers                              14           11    9   \nHealth Centres                            10          109    4   \nHospitals                                 48         1243    3   \nHotels                                    67          244  160   \nLarge Distribution Centres                14          117   33   \nLarge food shops                          58          367    0   \nLarge non-food shops                      60           57    6   \nLaw courts                                 1           21    4   \nLeisure Centres                            7          178   12   \nMilitary civilian accommodation            1           11    0   \nMilitary offices                           3           46   14   \nMilitary storage                           0           55    6   \nMuseums                                    2           13    4   \nNurseries                                  5           45   17   \nNursing Homes                              4           24    9   \nOffices (private)                        272          958  251   \nOffices (public)                          23          200   45   \nPlaces of Worship                         53          414  154   \nPolice stations                            4          215    6   \nPrisons                                    4          126   32   \nPubs                                     107          349  332   \nRestaurants & takeaways                  342          176  394   \nRetail Warehouse                          19          109   11   \nShowrooms                                 29           89   29   \nSmall shops                              272          154  106   \nState Primary schools                     33          516  154   \nState Secondary schools                   43          431   61   \nStores                                     9           33   15   \nTheatres                                   2           37    3   \nUni - Non-residential                     20          308    0   \nUni - Residential                          9           85   16   \nWarehouses                                56          404  651   \n\n                                 District Heating  Other  Total  \nSub-Sector                                                       \nCafes                                           0      0    124  \nClubs & community centres                       8      0    287  \nCold Stores                                     0      0      2  \nFire and Ambulance stations                     1      0     90  \nHairdressers                                    0      0     34  \nHealth Centres                                  0      0    123  \nHospitals                                      34      0   1328  \nHotels                                          0     76    547  \nLarge Distribution Centres                      0      2    166  \nLarge food shops                                0      0    425  \nLarge non-food shops                            0      0    123  \nLaw courts                                      0      0     26  \nLeisure Centres                                19      6    222  \nMilitary civilian accommodation                 1      0     13  \nMilitary offices                               55      0    118  \nMilitary storage                               51      0    112  \nMuseums                                         0      0     19  \nNurseries                                       0      0     67  \nNursing Homes                                   0      0     37  \nOffices (private)                               4      5   1490  \nOffices (public)                               11      4    283  \nPlaces of Worship                              13      0    634  \nPolice stations                                 0      0    225  \nPrisons                                         0      0    162  \nPubs                                            0      0    788  \nRestaurants & takeaways                         0      0    912  \nRetail Warehouse                                0      0    139  \nShowrooms                                       0      2    149  \nSmall shops                                     0      0    532  \nState Primary schools                           0      0    703  \nState Secondary schools                         0      9    544  \nStores                                          0      1     58  \nTheatres                                        0      1     43  \nUni - Non-residential                          46      0    374  \nUni - Residential                              39      0    149  \nWarehouses                                      0      3   1114  ",
      "text/html": "<div>\n<style scoped>\n    .dataframe tbody tr th:only-of-type {\n        vertical-align: middle;\n    }\n\n    .dataframe tbody tr th {\n        vertical-align: top;\n    }\n\n    .dataframe thead th {\n        text-align: right;\n    }\n</style>\n<table border=\"1\" class=\"dataframe\">\n  <thead>\n    <tr style=\"text-align: right;\">\n      <th></th>\n      <th>Electricity</th>\n      <th>Natural Gas</th>\n      <th>Oil</th>\n      <th>District Heating</th>\n      <th>Other</th>\n      <th>Total</th>\n    </tr>\n    <tr>\n      <th>Sub-Sector</th>\n      <th></th>\n      <th></th>\n      <th></th>\n      <th></th>\n      <th></th>\n      <th></th>\n    </tr>\n  </thead>\n  <tbody>\n    <tr>\n      <th>Cafes</th>\n      <td>55</td>\n      <td>44</td>\n      <td>25</td>\n      <td>0</td>\n      <td>0</td>\n      <td>124</td>\n    </tr>\n    <tr>\n      <th>Clubs &amp; community centres</th>\n      <td>29</td>\n      <td>166</td>\n      <td>84</td>\n      <td>8</td>\n      <td>0</td>\n      <td>287</td>\n    </tr>\n    <tr>\n      <th>Cold Stores</th>\n      <td>0</td>\n      <td>2</td>\n      <td>0</td>\n      <td>0</td>\n      <td>0</td>\n      <td>2</td>\n    </tr>\n    <tr>\n      <th>Fire and Ambulance stations</th>\n      <td>5</td>\n      <td>75</td>\n      <td>9</td>\n      <td>1</td>\n      <td>0</td>\n      <td>90</td>\n    </tr>\n    <tr>\n      <th>Hairdressers</th>\n      <td>14</td>\n      <td>11</td>\n      <td>9</td>\n      <td>0</td>\n      <td>0</td>\n      <td>34</td>\n    </tr>\n    <tr>\n      <th>Health Centres</th>\n      <td>10</td>\n      <td>109</td>\n      <td>4</td>\n      <td>0</td>\n      <td>0</td>\n      <td>123</td>\n    </tr>\n    <tr>\n      <th>Hospitals</th>\n      <td>48</td>\n      <td>1243</td>\n      <td>3</td>\n      <td>34</td>\n      <td>0</td>\n      <td>1328</td>\n    </tr>\n    <tr>\n      <th>Hotels</th>\n      <td>67</td>\n      <td>244</td>\n      <td>160</td>\n      <td>0</td>\n      <td>76</td>\n      <td>547</td>\n    </tr>\n    <tr>\n      <th>Large Distribution Centres</th>\n      <td>14</td>\n      <td>117</td>\n      <td>33</td>\n      <td>0</td>\n      <td>2</td>\n      <td>166</td>\n    </tr>\n    <tr>\n      <th>Large food shops</th>\n      <td>58</td>\n      <td>367</td>\n      <td>0</td>\n      <td>0</td>\n      <td>0</td>\n      <td>425</td>\n    </tr>\n    <tr>\n      <th>Large non-food shops</th>\n      <td>60</td>\n      <td>57</td>\n      <td>6</td>\n      <td>0</td>\n      <td>0</td>\n      <td>123</td>\n    </tr>\n    <tr>\n      <th>Law courts</th>\n      <td>1</td>\n      <td>21</td>\n      <td>4</td>\n      <td>0</td>\n      <td>0</td>\n      <td>26</td>\n    </tr>\n    <tr>\n      <th>Leisure Centres</th>\n      <td>7</td>\n      <td>178</td>\n      <td>12</td>\n      <td>19</td>\n      <td>6</td>\n      <td>222</td>\n    </tr>\n    <tr>\n      <th>Military civilian accommodation</th>\n      <td>1</td>\n      <td>11</td>\n      <td>0</td>\n      <td>1</td>\n      <td>0</td>\n      <td>13</td>\n    </tr>\n    <tr>\n      <th>Military offices</th>\n      <td>3</td>\n      <td>46</td>\n      <td>14</td>\n      <td>55</td>\n      <td>0</td>\n      <td>118</td>\n    </tr>\n    <tr>\n      <th>Military storage</th>\n      <td>0</td>\n      <td>55</td>\n      <td>6</td>\n      <td>51</td>\n      <td>0</td>\n      <td>112</td>\n    </tr>\n    <tr>\n      <th>Museums</th>\n      <td>2</td>\n      <td>13</td>\n      <td>4</td>\n      <td>0</td>\n      <td>0</td>\n      <td>19</td>\n    </tr>\n    <tr>\n      <th>Nurseries</th>\n      <td>5</td>\n      <td>45</td>\n      <td>17</td>\n      <td>0</td>\n      <td>0</td>\n      <td>67</td>\n    </tr>\n    <tr>\n      <th>Nursing Homes</th>\n      <td>4</td>\n      <td>24</td>\n      <td>9</td>\n      <td>0</td>\n      <td>0</td>\n      <td>37</td>\n    </tr>\n    <tr>\n      <th>Offices (private)</th>\n      <td>272</td>\n      <td>958</td>\n      <td>251</td>\n      <td>4</td>\n      <td>5</td>\n      <td>1490</td>\n    </tr>\n    <tr>\n      <th>Offices (public)</th>\n      <td>23</td>\n      <td>200</td>\n      <td>45</td>\n      <td>11</td>\n      <td>4</td>\n      <td>283</td>\n    </tr>\n    <tr>\n      <th>Places of Worship</th>\n      <td>53</td>\n      <td>414</td>\n      <td>154</td>\n      <td>13</td>\n      <td>0</td>\n      <td>634</td>\n    </tr>\n    <tr>\n      <th>Police stations</th>\n      <td>4</td>\n      <td>215</td>\n      <td>6</td>\n      <td>0</td>\n      <td>0</td>\n      <td>225</td>\n    </tr>\n    <tr>\n      <th>Prisons</th>\n      <td>4</td>\n      <td>126</td>\n      <td>32</td>\n      <td>0</td>\n      <td>0</td>\n      <td>162</td>\n    </tr>\n    <tr>\n      <th>Pubs</th>\n      <td>107</td>\n      <td>349</td>\n      <td>332</td>\n      <td>0</td>\n      <td>0</td>\n      <td>788</td>\n    </tr>\n    <tr>\n      <th>Restaurants &amp; takeaways</th>\n      <td>342</td>\n      <td>176</td>\n      <td>394</td>\n      <td>0</td>\n      <td>0</td>\n      <td>912</td>\n    </tr>\n    <tr>\n      <th>Retail Warehouse</th>\n      <td>19</td>\n      <td>109</td>\n      <td>11</td>\n      <td>0</td>\n      <td>0</td>\n      <td>139</td>\n    </tr>\n    <tr>\n      <th>Showrooms</th>\n      <td>29</td>\n      <td>89</td>\n      <td>29</td>\n      <td>0</td>\n      <td>2</td>\n      <td>149</td>\n    </tr>\n    <tr>\n      <th>Small shops</th>\n      <td>272</td>\n      <td>154</td>\n      <td>106</td>\n      <td>0</td>\n      <td>0</td>\n      <td>532</td>\n    </tr>\n    <tr>\n      <th>State Primary schools</th>\n      <td>33</td>\n      <td>516</td>\n      <td>154</td>\n      <td>0</td>\n      <td>0</td>\n      <td>703</td>\n    </tr>\n    <tr>\n      <th>State Secondary schools</th>\n      <td>43</td>\n      <td>431</td>\n      <td>61</td>\n      <td>0</td>\n      <td>9</td>\n      <td>544</td>\n    </tr>\n    <tr>\n      <th>Stores</th>\n      <td>9</td>\n      <td>33</td>\n      <td>15</td>\n      <td>0</td>\n      <td>1</td>\n      <td>58</td>\n    </tr>\n    <tr>\n      <th>Theatres</th>\n      <td>2</td>\n      <td>37</td>\n      <td>3</td>\n      <td>0</td>\n      <td>1</td>\n      <td>43</td>\n    </tr>\n    <tr>\n      <th>Uni - Non-residential</th>\n      <td>20</td>\n      <td>308</td>\n      <td>0</td>\n      <td>46</td>\n      <td>0</td>\n      <td>374</td>\n    </tr>\n    <tr>\n      <th>Uni - Residential</th>\n      <td>9</td>\n      <td>85</td>\n      <td>16</td>\n      <td>39</td>\n      <td>0</td>\n      <td>149</td>\n    </tr>\n    <tr>\n      <th>Warehouses</th>\n      <td>56</td>\n      <td>404</td>\n      <td>651</td>\n      <td>0</td>\n      <td>3</td>\n      <td>1114</td>\n    </tr>\n  </tbody>\n</table>\n</div>"
     },
     "execution_count": 182,
     "metadata": {},
     "output_type": "execute_result"
    }
   ],
   "source": [
    "ss = data.groupby('Sub-Sector').sum()\n",
    "ss"
   ]
  },
  {
   "cell_type": "markdown",
   "metadata": {},
   "source": [
    "**Q3.** Create a new DataFrame called `use`, using `.groupby()` to group `data` by `Use`, which contains the `.sum()` for each of the numerical (energy type) columns for each group:"
   ]
  },
  {
   "cell_type": "code",
   "execution_count": 183,
   "metadata": {},
   "outputs": [
    {
     "data": {
      "text/plain": "           Electricity  Natural Gas   Oil  District Heating  Other  Total\nUse                                                                      \nCatering           758          587   800                 0      0   2145\nHeating            762         6044  1602               265      0   8673\nHot Water          160          801   257                17    109   1344",
      "text/html": "<div>\n<style scoped>\n    .dataframe tbody tr th:only-of-type {\n        vertical-align: middle;\n    }\n\n    .dataframe tbody tr th {\n        vertical-align: top;\n    }\n\n    .dataframe thead th {\n        text-align: right;\n    }\n</style>\n<table border=\"1\" class=\"dataframe\">\n  <thead>\n    <tr style=\"text-align: right;\">\n      <th></th>\n      <th>Electricity</th>\n      <th>Natural Gas</th>\n      <th>Oil</th>\n      <th>District Heating</th>\n      <th>Other</th>\n      <th>Total</th>\n    </tr>\n    <tr>\n      <th>Use</th>\n      <th></th>\n      <th></th>\n      <th></th>\n      <th></th>\n      <th></th>\n      <th></th>\n    </tr>\n  </thead>\n  <tbody>\n    <tr>\n      <th>Catering</th>\n      <td>758</td>\n      <td>587</td>\n      <td>800</td>\n      <td>0</td>\n      <td>0</td>\n      <td>2145</td>\n    </tr>\n    <tr>\n      <th>Heating</th>\n      <td>762</td>\n      <td>6044</td>\n      <td>1602</td>\n      <td>265</td>\n      <td>0</td>\n      <td>8673</td>\n    </tr>\n    <tr>\n      <th>Hot Water</th>\n      <td>160</td>\n      <td>801</td>\n      <td>257</td>\n      <td>17</td>\n      <td>109</td>\n      <td>1344</td>\n    </tr>\n  </tbody>\n</table>\n</div>"
     },
     "execution_count": 183,
     "metadata": {},
     "output_type": "execute_result"
    }
   ],
   "source": [
    "use = data.groupby('Use').sum()\n",
    "use\n"
   ]
  },
  {
   "cell_type": "markdown",
   "metadata": {},
   "source": [
    "**Q4.** Create a new DataFrame called `sector`, using `.groupby()` to group `data` by `Sector`, and `.agg()` on the `Total` column such that the new DataFrame has columns for `sum`, `mean`, and `count` of the values in `Total`:\n",
    "\n",
    "- Use the `sort_values()` method to sort the resulting DataFrame by `sum`, in *descending* order\n",
    "\n",
    "- You may find [this documentation page](https://pandas.pydata.org/pandas-docs/version/0.23.1/generated/pandas.core.groupby.DataFrameGroupBy.agg.html) useful"
   ]
  },
  {
   "cell_type": "code",
   "execution_count": 184,
   "metadata": {},
   "outputs": [
    {
     "data": {
      "text/plain": "                              sum        mean  count\nSector                                              \nHospitality                  2371  197.583333     12\nEducation                    1837  122.466667     15\nOffices                      1773  295.500000      6\nHealth                       1488  165.333333      9\nRetail                       1402   77.888889     18\nStorage                      1340  111.666667     12\nArts, leisure and community  1205   80.333333     15\nEmergency Services            503   41.916667     12\nMilitary                      243   27.000000      9",
      "text/html": "<div>\n<style scoped>\n    .dataframe tbody tr th:only-of-type {\n        vertical-align: middle;\n    }\n\n    .dataframe tbody tr th {\n        vertical-align: top;\n    }\n\n    .dataframe thead th {\n        text-align: right;\n    }\n</style>\n<table border=\"1\" class=\"dataframe\">\n  <thead>\n    <tr style=\"text-align: right;\">\n      <th></th>\n      <th>sum</th>\n      <th>mean</th>\n      <th>count</th>\n    </tr>\n    <tr>\n      <th>Sector</th>\n      <th></th>\n      <th></th>\n      <th></th>\n    </tr>\n  </thead>\n  <tbody>\n    <tr>\n      <th>Hospitality</th>\n      <td>2371</td>\n      <td>197.583333</td>\n      <td>12</td>\n    </tr>\n    <tr>\n      <th>Education</th>\n      <td>1837</td>\n      <td>122.466667</td>\n      <td>15</td>\n    </tr>\n    <tr>\n      <th>Offices</th>\n      <td>1773</td>\n      <td>295.500000</td>\n      <td>6</td>\n    </tr>\n    <tr>\n      <th>Health</th>\n      <td>1488</td>\n      <td>165.333333</td>\n      <td>9</td>\n    </tr>\n    <tr>\n      <th>Retail</th>\n      <td>1402</td>\n      <td>77.888889</td>\n      <td>18</td>\n    </tr>\n    <tr>\n      <th>Storage</th>\n      <td>1340</td>\n      <td>111.666667</td>\n      <td>12</td>\n    </tr>\n    <tr>\n      <th>Arts, leisure and community</th>\n      <td>1205</td>\n      <td>80.333333</td>\n      <td>15</td>\n    </tr>\n    <tr>\n      <th>Emergency Services</th>\n      <td>503</td>\n      <td>41.916667</td>\n      <td>12</td>\n    </tr>\n    <tr>\n      <th>Military</th>\n      <td>243</td>\n      <td>27.000000</td>\n      <td>9</td>\n    </tr>\n  </tbody>\n</table>\n</div>"
     },
     "execution_count": 184,
     "metadata": {},
     "output_type": "execute_result"
    }
   ],
   "source": [
    "sector = data.groupby('Sector')['Total'].agg(['sum', 'mean', 'count'])\n",
    "sector.sort_values(\"sum\", axis=0, ascending=False,\n",
    "                   inplace=True)\n",
    "sector\n"
   ]
  },
  {
   "cell_type": "markdown",
   "metadata": {},
   "source": [
    "*You may want to submit your notebook to KATE to ensure your `data`, `ss`, and `use` and `sector` DataFrames are as expected before moving on to the visualisations.*"
   ]
  },
  {
   "cell_type": "markdown",
   "metadata": {},
   "source": [
    "### Data visualisation"
   ]
  },
  {
   "cell_type": "markdown",
   "metadata": {},
   "source": [
    "**Q5.** Create a **histogram** from the `Electricity` column of `ss` using the `.plot()` method:\n",
    "- The histogram should have 5 `bins`\n",
    "- Assign the plot to the variable `elec_hist`\n",
    "- Ensure your code cell starts with `plt.figure()`\n",
    "\n",
    "*We need to execute `plt.figure()` before creating each new plot in the notebook, otherwise the properties of previous plots will be overwritten in memory and KATE will not evaluate them correctly.*\n",
    "\n",
    "`plt.figure()`  \n",
    "`elec_hist = ss.plot(....)`"
   ]
  },
  {
   "cell_type": "code",
   "execution_count": 185,
   "metadata": {},
   "outputs": [
    {
     "data": {
      "text/plain": "<AxesSubplot:ylabel='Frequency'>"
     },
     "execution_count": 185,
     "metadata": {},
     "output_type": "execute_result"
    },
    {
     "data": {
      "text/plain": "<Figure size 432x288 with 0 Axes>"
     },
     "metadata": {},
     "output_type": "display_data"
    },
    {
     "data": {
      "text/plain": "<Figure size 432x288 with 1 Axes>",
      "image/png": "[encoded data removed]"
     },
     "metadata": {
      "needs_background": "light"
     },
     "output_type": "display_data"
    }
   ],
   "source": [
    "plt.figure()\n",
    "elec_hist = ss.plot(y='Electricity', kind='hist', bins=5)\n",
    "elec_hist"
   ]
  },
  {
   "cell_type": "markdown",
   "metadata": {},
   "source": [
    "**Q6.** Create a **scatter plot** of `Natural Gas` vs `Total`, to see the relationship between the two values.\n",
    "\n",
    "- Use the `.plot()` method on `ss`\n",
    "- Have `Natural Gas` on the x-axis and `Total` on the y-axis\n",
    "- Assign the plot to the variable `gas_total`\n",
    "- Ensure your code cell starts with `plt.figure()`"
   ]
  },
  {
   "cell_type": "code",
   "execution_count": 186,
   "metadata": {},
   "outputs": [
    {
     "data": {
      "text/plain": "<AxesSubplot:xlabel='Natural Gas', ylabel='Total'>"
     },
     "execution_count": 186,
     "metadata": {},
     "output_type": "execute_result"
    },
    {
     "data": {
      "text/plain": "<Figure size 432x288 with 0 Axes>"
     },
     "metadata": {},
     "output_type": "display_data"
    },
    {
     "data": {
      "text/plain": "<Figure size 432x288 with 1 Axes>",
      "image/png": "[encoded data removed]"
     },
     "metadata": {
      "needs_background": "light"
     },
     "output_type": "display_data"
    }
   ],
   "source": [
    "# gas_total/n#hide\n",
    "plt.figure()\n",
    "gas_total = ss.plot(x='Natural Gas', y='Total', kind='scatter')\n",
    "gas_total\n"
   ]
  },
  {
   "cell_type": "markdown",
   "metadata": {},
   "source": [
    "**Q7.** Create a **bar chart** of the `sum` column of the `sector` DataFrame using the `.plot()` method:\n",
    "\n",
    "- Add a title of `Energy consumption by sector` to the plot\n",
    "- Assign the plot to the variable `sector_sum`\n",
    "- Ensure your code cell starts with `plt.figure()`"
   ]
  },
  {
   "cell_type": "code",
   "execution_count": 187,
   "metadata": {},
   "outputs": [
    {
     "data": {
      "text/plain": "<AxesSubplot:title={'center':'Energy consumption by sector'}, xlabel='Sector'>"
     },
     "execution_count": 187,
     "metadata": {},
     "output_type": "execute_result"
    },
    {
     "data": {
      "text/plain": "<Figure size 432x288 with 0 Axes>"
     },
     "metadata": {},
     "output_type": "display_data"
    },
    {
     "data": {
      "text/plain": "<Figure size 432x288 with 1 Axes>",
      "image/png": "[encoded data removed]"
     },
     "metadata": {
      "needs_background": "light"
     },
     "output_type": "display_data"
    }
   ],
   "source": [
    "plt.figure()\n",
    "sector_sum = sector.plot(y='sum', kind='bar', title='Energy consumption by sector')\n",
    "sector_sum\n"
   ]
  },
  {
   "cell_type": "markdown",
   "metadata": {},
   "source": [
    "**Q8.** Create a *horizontal* and *stacked* bar chart from the `use` DataFrame, using the `.plot()` method:\n",
    "\n",
    "- Do not include the `Total` column values\n",
    "- Assign the plot to the variable `use_type`\n",
    "- Give it a `figsize` of `(12, 12)`\n",
    "- You may find [this page](https://pandas.pydata.org/pandas-docs/stable/reference/api/pandas.DataFrame.plot.barh.html) useful\n",
    "- Ensure your code cell starts with `plt.figure()`"
   ]
  },
  {
   "cell_type": "code",
   "execution_count": 188,
   "metadata": {},
   "outputs": [
    {
     "data": {
      "text/plain": "<AxesSubplot:ylabel='Use'>"
     },
     "execution_count": 188,
     "metadata": {},
     "output_type": "execute_result"
    },
    {
     "data": {
      "text/plain": "<Figure size 864x864 with 0 Axes>"
     },
     "metadata": {},
     "output_type": "display_data"
    },
    {
     "data": {
      "text/plain": "<Figure size 432x288 with 1 Axes>",
      "image/png": "[encoded data removed]"
     },
     "metadata": {
      "needs_background": "light"
     },
     "output_type": "display_data"
    }
   ],
   "source": [
    "plt.figure(figsize=(12 , 12))\n",
    "use_type = use.plot(y=[\"Electricity\", \"Natural Gas\", \"Oil\", \"District Heating\", \"Other\"], kind='barh', stacked=True)\n",
    "use_type"
   ]
  },
  {
   "cell_type": "code",
   "execution_count": null,
   "outputs": [],
   "source": [],
   "metadata": {
    "collapsed": false,
    "pycharm": {
     "name": "#%%\n"
    }
   }
  }
 ],
 "metadata": {
  "kernel_info": {
   "name": "python3"
  },
  "kernelspec": {
   "display_name": "Python 3 (ipykernel)",
   "language": "python",
   "name": "python3"
  },
  "language_info": {
   "codemirror_mode": {
    "name": "ipython",
    "version": 3
   },
   "file_extension": ".py",
   "mimetype": "text/x-python",
   "name": "python",
   "nbconvert_exporter": "python",
   "pygments_lexer": "ipython3",
   "version": "3.7.12"
  },
  "nteract": {
   "version": "0.15.0"
  }
 },
 "nbformat": 4,
 "nbformat_minor": 4
}