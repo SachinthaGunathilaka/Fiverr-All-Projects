{
  "nbformat": 4,
  "nbformat_minor": 0,
  "metadata": {
    "colab": {
      "provenance": []
    },
    "kernelspec": {
      "name": "python3",
      "display_name": "Python 3"
    },
    "language_info": {
      "name": "python"
    }
  },
  "cells": [
    {
      "cell_type": "code",
      "execution_count": 7,
      "metadata": {
        "id": "ytIau_ZQy-C8"
      },
      "outputs": [],
      "source": [
        "def selectionSort(array):\n",
        "    size = len(array)\n",
        "    for ind in range(size):\n",
        "        min_index = ind\n",
        " \n",
        "        for j in range(ind + 1, size):\n",
        "            if array[j] < array[min_index]:\n",
        "                min_index = j\n",
        "        (array[ind], array[min_index]) = (array[min_index], array[ind])"
      ]
    },
    {
      "cell_type": "code",
      "source": [
        "def mergeSort(arr):\n",
        "    size = len(arr)\n",
        "    if size > 1:\n",
        "        mid = len(arr)//2\n",
        "        L = arr[:mid]\n",
        "        R = arr[mid:]\n",
        " \n",
        "        mergeSort(L)\n",
        " \n",
        "        mergeSort(R)\n",
        " \n",
        "        i = j = k = 0\n",
        " \n",
        "        while i < len(L) and j < len(R):\n",
        "            if L[i] <= R[j]:\n",
        "                arr[k] = L[i]\n",
        "                i += 1\n",
        "            else:\n",
        "                arr[k] = R[j]\n",
        "                j += 1\n",
        "            k += 1\n",
        " \n",
        "        while i < len(L):\n",
        "            arr[k] = L[i]\n",
        "            i += 1\n",
        "            k += 1\n",
        " \n",
        "        while j < len(R):\n",
        "            arr[k] = R[j]\n",
        "            j += 1\n",
        "            k += 1"
      ],
      "metadata": {
        "id": "BCvTVfwADca-"
      },
      "execution_count": 8,
      "outputs": []
    },
    {
      "cell_type": "code",
      "source": [
        "\n",
        "def radixSortHelper(arr, exp1):\n",
        " \n",
        "    n = len(arr)\n",
        " \n",
        "    output = [0] * (n)\n",
        " \n",
        "    count = [0] * (10)\n",
        " \n",
        "    for i in range(0, n):\n",
        "        index = arr[i] // exp1\n",
        "        count[index % 10] += 1\n",
        " \n",
        "    for i in range(1, 10):\n",
        "        count[i] += count[i - 1]\n",
        " \n",
        "    i = n - 1\n",
        "    while i >= 0:\n",
        "        index = arr[i] // exp1\n",
        "        output[count[index % 10] - 1] = arr[i]\n",
        "        count[index % 10] -= 1\n",
        "        i -= 1\n",
        " \n",
        "    i = 0\n",
        "    for i in range(0, len(arr)):\n",
        "        arr[i] = output[i]\n",
        "\n",
        "def radixSort(arr):\n",
        " \n",
        "    max1 = max(arr)\n",
        "    exp = 1\n",
        "    while max1 / exp >= 1:\n",
        "        radixSortHelper(arr, exp)\n",
        "        exp *= 10"
      ],
      "metadata": {
        "id": "evjHoWOND-PU"
      },
      "execution_count": 9,
      "outputs": []
    },
    {
      "cell_type": "code",
      "source": [
        "arr = [-2, 45, 0, 11, -9,88,-97,-202,747]\n",
        "selectionSort(arr)\n",
        "print(arr)"
      ],
      "metadata": {
        "colab": {
          "base_uri": "https://localhost:8080/"
        },
        "id": "_08FBE2vC52c",
        "outputId": "e8c00a5e-abd8-464f-eb67-9402341160ad"
      },
      "execution_count": null,
      "outputs": [
        {
          "output_type": "stream",
          "name": "stdout",
          "text": [
            "[-202, -97, -9, -2, 0, 11, 45, 88, 747]\n"
          ]
        }
      ]
    },
    {
      "cell_type": "code",
      "source": [
        "arr = [-2, 45, 0, 11, -9,88,-97,-202,747]\n",
        "mergeSort(arr)\n",
        "print(arr)"
      ],
      "metadata": {
        "colab": {
          "base_uri": "https://localhost:8080/"
        },
        "id": "wbZDkGxlDp7H",
        "outputId": "5f0a8d7c-49a5-4107-9cd8-fd1c1570abbe"
      },
      "execution_count": null,
      "outputs": [
        {
          "output_type": "stream",
          "name": "stdout",
          "text": [
            "[-202, -97, -9, -2, 0, 11, 45, 88, 747]\n"
          ]
        }
      ]
    },
    {
      "cell_type": "code",
      "source": [
        "arr = [-2, 45, 0, 11, -9,88,-97,-202,747]\n",
        "radixSort(arr)\n",
        "print(arr)"
      ],
      "metadata": {
        "colab": {
          "base_uri": "https://localhost:8080/"
        },
        "id": "FFv6yKk8DCf2",
        "outputId": "d355b4c1-ad6f-4338-ccd8-a0de6717a353"
      },
      "execution_count": null,
      "outputs": [
        {
          "output_type": "stream",
          "name": "stdout",
          "text": [
            "[0, 11, 45, 88, 747, -202, -97, -9, -2]\n"
          ]
        }
      ]
    },
    {
      "cell_type": "markdown",
      "source": [
        "#Testing"
      ],
      "metadata": {
        "id": "mBpH54OYEdob"
      }
    },
    {
      "cell_type": "code",
      "source": [
        "import random\n",
        "import time"
      ],
      "metadata": {
        "id": "HLEn3txWE29t"
      },
      "execution_count": 4,
      "outputs": []
    },
    {
      "cell_type": "code",
      "source": [
        "def displayExecutionTimes(n):\n",
        "    data = random.sample(range(1, n*10), n)\n",
        "    temp_data = data.copy()\n",
        "\n",
        "    start_time = time.time()\n",
        "    selectionSort(temp_data)\n",
        "    print(\"Selection Sort : %s seconds\" % (time.time() - start_time))\n",
        "\n",
        "    temp_data = data.copy()\n",
        "    start_time = time.time()\n",
        "    mergeSort(temp_data)\n",
        "    print(\"Merge Sort     : %s seconds\" % (time.time() - start_time))\n",
        "\n",
        "    temp_data = data.copy()\n",
        "    start_time = time.time()\n",
        "    radixSort(temp_data)\n",
        "\n",
        "    print(\"Radix Sort     : %s seconds\" % (time.time() - start_time))"
      ],
      "metadata": {
        "id": "vnxSiE3dHX4E"
      },
      "execution_count": null,
      "outputs": []
    },
    {
      "cell_type": "markdown",
      "source": [
        "### N = 10"
      ],
      "metadata": {
        "id": "yrxQlczkH5oU"
      }
    },
    {
      "cell_type": "code",
      "source": [
        "displayExecutionTimes(10)"
      ],
      "metadata": {
        "colab": {
          "base_uri": "https://localhost:8080/"
        },
        "id": "w9y3EOC6FyRY",
        "outputId": "e07867fb-35bb-4e6b-bfb6-eae057cb70e3"
      },
      "execution_count": null,
      "outputs": [
        {
          "output_type": "stream",
          "name": "stdout",
          "text": [
            "Selection Sort : 1.0967254638671875e-05 seconds\n",
            "Merge Sort     : 2.6464462280273438e-05 seconds\n",
            "Radix Sort     : 2.4080276489257812e-05 seconds\n"
          ]
        }
      ]
    },
    {
      "cell_type": "markdown",
      "source": [
        "### N = 100"
      ],
      "metadata": {
        "id": "C5EeeiMcHKo-"
      }
    },
    {
      "cell_type": "code",
      "source": [
        "displayExecutionTimes(100)"
      ],
      "metadata": {
        "colab": {
          "base_uri": "https://localhost:8080/"
        },
        "id": "5ydUO2jqFf6x",
        "outputId": "0359a614-949e-4ed0-bc48-620e46b80ea3"
      },
      "execution_count": null,
      "outputs": [
        {
          "output_type": "stream",
          "name": "stdout",
          "text": [
            "Selection Sort : 0.0006766319274902344 seconds\n",
            "Merge Sort     : 0.0005373954772949219 seconds\n",
            "Radix Sort     : 0.0003123283386230469 seconds\n"
          ]
        }
      ]
    },
    {
      "cell_type": "markdown",
      "source": [
        "### N = 1000"
      ],
      "metadata": {
        "id": "_-3RfvL4GrEY"
      }
    },
    {
      "cell_type": "code",
      "source": [
        "displayExecutionTimes(1000)"
      ],
      "metadata": {
        "colab": {
          "base_uri": "https://localhost:8080/"
        },
        "id": "PhATNZzkGwCJ",
        "outputId": "1b114734-650f-4521-aa69-e9418321700e"
      },
      "execution_count": null,
      "outputs": [
        {
          "output_type": "stream",
          "name": "stdout",
          "text": [
            "Selection Sort : 0.04528999328613281 seconds\n",
            "Merge Sort     : 0.004528522491455078 seconds\n",
            "Radix Sort     : 0.002187490463256836 seconds\n"
          ]
        }
      ]
    },
    {
      "cell_type": "markdown",
      "source": [
        "### N = 10000"
      ],
      "metadata": {
        "id": "b7YEYG-WJgPo"
      }
    },
    {
      "cell_type": "code",
      "source": [
        "displayExecutionTimes(10000)"
      ],
      "metadata": {
        "colab": {
          "base_uri": "https://localhost:8080/"
        },
        "id": "e0GaFJeZJk6J",
        "outputId": "f0d8597e-b95e-4335-d2a1-00d1d1e609d5"
      },
      "execution_count": null,
      "outputs": [
        {
          "output_type": "stream",
          "name": "stdout",
          "text": [
            "Selection Sort : 4.1089794635772705 seconds\n",
            "Merge Sort     : 0.06997084617614746 seconds\n",
            "Radix Sort     : 0.031977176666259766 seconds\n"
          ]
        }
      ]
    },
    {
      "cell_type": "markdown",
      "source": [
        "N = 100000"
      ],
      "metadata": {
        "id": "fyOst41XJmHH"
      }
    },
    {
      "cell_type": "code",
      "source": [
        "displayExecutionTimes(100000)"
      ],
      "metadata": {
        "colab": {
          "base_uri": "https://localhost:8080/"
        },
        "id": "71H_fQEOJsqq",
        "outputId": "7fd7ff33-2958-49bb-b50c-a2c5f4d7a911"
      },
      "execution_count": null,
      "outputs": [
        {
          "output_type": "stream",
          "name": "stdout",
          "text": [
            "Selection Sort : 970.4948868751526 seconds\n",
            "Merge Sort     : 0.9181118011474609 seconds\n",
            "Radix Sort     : 0.5815560817718506 seconds\n"
          ]
        }
      ]
    },
    {
      "cell_type": "code",
      "source": [
        "def displayExecutionTimes(n):\n",
        "    data = random.sample(range(1, n*10), n)\n",
        "    temp_data = data.copy()\n",
        "\n",
        "    temp_data = data.copy()\n",
        "    start_time = time.time()\n",
        "    mergeSort(temp_data)\n",
        "    print(\"Merge Sort     : %s seconds\" % (time.time() - start_time))\n",
        "\n",
        "    temp_data = data.copy()\n",
        "    start_time = time.time()\n",
        "    radixSort(temp_data)\n",
        "\n",
        "    print(\"Radix Sort     : %s seconds\" % (time.time() - start_time))"
      ],
      "metadata": {
        "id": "9omYl_tmHl9j"
      },
      "execution_count": 2,
      "outputs": []
    },
    {
      "cell_type": "markdown",
      "source": [
        "### N = 1000000"
      ],
      "metadata": {
        "id": "gn4yp5CBJ9GZ"
      }
    },
    {
      "cell_type": "code",
      "source": [
        "displayExecutionTimesWithoutSelection(1000000)"
      ],
      "metadata": {
        "colab": {
          "base_uri": "https://localhost:8080/"
        },
        "id": "L7oIqSYaKEtB",
        "outputId": "ec5cd408-201a-464d-d6e9-291c8a764f7f"
      },
      "execution_count": 13,
      "outputs": [
        {
          "output_type": "stream",
          "name": "stdout",
          "text": [
            "Merge Sort     : 10.800201892852783 seconds\n",
            "Radix Sort     : 8.703335762023926 seconds\n"
          ]
        }
      ]
    },
    {
      "cell_type": "markdown",
      "source": [
        "### N =10000000"
      ],
      "metadata": {
        "id": "TNcwyhwwJvfN"
      }
    },
    {
      "cell_type": "code",
      "source": [
        "displayExecutionTimesWithoutSelection(10000000)"
      ],
      "metadata": {
        "colab": {
          "base_uri": "https://localhost:8080/"
        },
        "id": "Op5AKmzxHr0F",
        "outputId": "70f9426b-7d82-4b9c-b472-5006f38c59e2"
      },
      "execution_count": 12,
      "outputs": [
        {
          "output_type": "stream",
          "name": "stdout",
          "text": [
            "Merge Sort     : 132.32223629951477 seconds\n",
            "Radix Sort     : 103.20435357093811 seconds\n"
          ]
        }
      ]
    },
    {
      "cell_type": "code",
      "source": [],
      "metadata": {
        "id": "UPAtEkQuKTCh"
      },
      "execution_count": null,
      "outputs": []
    }
  ]
}