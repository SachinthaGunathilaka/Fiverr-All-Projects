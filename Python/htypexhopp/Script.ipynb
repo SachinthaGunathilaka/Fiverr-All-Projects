{
 "cells": [
  {
   "cell_type": "code",
   "execution_count": 5,
   "metadata": {
    "collapsed": true
   },
   "outputs": [],
   "source": [
    "from bs4 import BeautifulSoup\n",
    "import re\n",
    "\n",
    "xml_file = open(\"input_doc.xml\", 'r')\n",
    "content = xml_file.read()\n",
    "soup = BeautifulSoup(content, 'xml')"
   ]
  },
  {
   "cell_type": "code",
   "execution_count": 13,
   "outputs": [
    {
     "name": "stdout",
     "output_type": "stream",
     "text": [
      "Les atouts de notre offre\n",
      "\n",
      "\n",
      "\n",
      "\n",
      "\n",
      "\n",
      "\n"
     ]
    }
   ],
   "source": [
    "import docx\n",
    "\n",
    "class Headers:\n",
    "    def __init__(self):\n",
    "        self.headers = []\n",
    "\n",
    "    def addHeader(self, number, text):\n",
    "        self.headers.append([number, text])\n",
    "\n",
    "    def getLevels(self, header_num):\n",
    "        return len(header_num.split(\".\")) - 2\n",
    "\n",
    "    def getChapterNames(self):\n",
    "        for i in range(len(headers.headers)):\n",
    "            if self.getLevels(self.headers[i][0]) == 0:\n",
    "                print(self.headers[i][1])\n",
    "\n",
    "    def getHeaderPath(self, index):\n",
    "        path = []\n",
    "\n",
    "        header_nums = self.headers[index][0].split(\".\")\n",
    "\n",
    "        for i in range(len(header_nums) - 1):\n",
    "            if i == 0:\n",
    "                path.append(ord(header_nums[i]) - 64)\n",
    "            elif i == 1:\n",
    "                path.append(int(header_nums[i]))\n",
    "            else:\n",
    "                path.append(int(header_nums[i]) - 1)\n",
    "\n",
    "        return path\n",
    "\n",
    "    def display(self):\n",
    "        for [header_num, text] in self.headers:\n",
    "            print(\"\\t\" * self.getLevels(header_num) + header_num, text)\n",
    "\n",
    "\n",
    "def iter_heading(paragraphs):\n",
    "    for paragraph in paragraphs:\n",
    "        isItHeading = re.match('Heading ([1-9])', paragraph.style.name)\n",
    "        if isItHeading:\n",
    "            yield int(isItHeading.groups()[0]), paragraph\n",
    "\n",
    "\n",
    "def addHeaderNumbering(document):\n",
    "    hNums = [-1, -1, -1, -1, -1, -1, -1, -1, -1]\n",
    "    for index, hx in iter_heading(document.paragraphs):\n",
    "        # if hx.text.strip() == \"\" and index > 1:\n",
    "        #     continue\n",
    "\n",
    "        for i in range(index + 1, 9):\n",
    "            if i > 2:\n",
    "                hNums[i] = 0\n",
    "            else:\n",
    "                hNums[i] = -1\n",
    "\n",
    "        hNums[index] += 1\n",
    "\n",
    "        header_num = \"\"\n",
    "\n",
    "        if index < 4:\n",
    "            for i in range(1, index + 1):\n",
    "                if i == 1:\n",
    "                    header_num += chr(64 + hNums[i]) + \".\"\n",
    "                else:\n",
    "                    header_num += \"%d.\" % hNums[i]\n",
    "\n",
    "            headers.addHeader(header_num, hx.text.strip())\n",
    "\n",
    "\n",
    "\n",
    "\n",
    "doc = docx.Document(\"doc.docx\")\n",
    "headers = Headers()\n",
    "addHeaderNumbering(doc)\n",
    "# headers.display()\n",
    "headers.getChapterNames()"
   ],
   "metadata": {
    "collapsed": false,
    "pycharm": {
     "name": "#%%\n"
    }
   }
  },
  {
   "cell_type": "code",
   "execution_count": 14,
   "outputs": [
    {
     "data": {
      "text/plain": "[1, 1, 1]"
     },
     "execution_count": 14,
     "metadata": {},
     "output_type": "execute_result"
    }
   ],
   "source": [
    "headers.getHeaderPath(7)"
   ],
   "metadata": {
    "collapsed": false,
    "pycharm": {
     "name": "#%%\n"
    }
   }
  },
  {
   "cell_type": "code",
   "execution_count": 11,
   "outputs": [],
   "source": [
    "def getHeaderNum(header_details):\n",
    "# header_details = [3, 1, 5]\n",
    "\n",
    "    # sub_header_num = 0\n",
    "    iter_level = 0\n",
    "    count = -1\n",
    "    selected = -1\n",
    "    for i in range(len(headers.headers)):\n",
    "        level = headers.getLevels(headers.headers[i][0])\n",
    "\n",
    "        # if level == 2:\n",
    "        #     sub_header_num += 1\n",
    "        if iter_level == level:\n",
    "            count += 1\n",
    "            if header_details[iter_level] == count:\n",
    "                iter_level += 1\n",
    "                count = -1\n",
    "\n",
    "                if iter_level == len(header_details):\n",
    "                    selected = i\n",
    "                    break\n",
    "\n",
    "    return selected\n",
    "    # print(headers.headers[selected])\n",
    "    # print(sub_header_num)\n",
    "# for num in header_details:\n"
   ],
   "metadata": {
    "collapsed": false,
    "pycharm": {
     "name": "#%%\n"
    }
   }
  },
  {
   "cell_type": "code",
   "execution_count": 131,
   "outputs": [
    {
     "data": {
      "text/plain": "7"
     },
     "execution_count": 131,
     "metadata": {},
     "output_type": "execute_result"
    }
   ],
   "source": [
    "getHeaderNum([1, 1, 1])"
   ],
   "metadata": {
    "collapsed": false,
    "pycharm": {
     "name": "#%%\n"
    }
   }
  },
  {
   "cell_type": "code",
   "execution_count": 109,
   "outputs": [],
   "source": [
    "def getParaIds():\n",
    "    header_para_ids = []\n",
    "    p_s = soup.findAll(\"w:p\")\n",
    "    # is_find = False\n",
    "    index = 0\n",
    "\n",
    "    for p in p_s:\n",
    "        # if is_find:\n",
    "        #     break\n",
    "\n",
    "        ppr_s = p.findAll(\"w:pPr\")\n",
    "        if len(ppr_s) == 0:\n",
    "            continue\n",
    "\n",
    "        for ppr in ppr_s:\n",
    "            p_style = ppr.findAll(\"w:pStyle\", {\"w:val\": re.compile(\"Heading1|Heading2|Heading3\")})\n",
    "            # print(p_style)\n",
    "\n",
    "            if len(p_style) == 0:\n",
    "                continue\n",
    "\n",
    "            index += 1\n",
    "\n",
    "            # if index == needed_index:\n",
    "\n",
    "            # is_find = True\n",
    "            header_content = str(p_style[0].parent.parent)\n",
    "            # print(header_content)\n",
    "            pos = header_content.find(\"paraId\")\n",
    "\n",
    "            end_pos = pos + 8\n",
    "            while True:\n",
    "                if header_content[end_pos] == '\\\"':\n",
    "                    break\n",
    "\n",
    "                end_pos += 1\n",
    "\n",
    "            header_para_ids.append(header_content[pos+8 : end_pos])\n",
    "\n",
    "    return header_para_ids\n"
   ],
   "metadata": {
    "collapsed": false,
    "pycharm": {
     "name": "#%%\n"
    }
   }
  },
  {
   "cell_type": "code",
   "execution_count": 132,
   "outputs": [
    {
     "name": "stdout",
     "output_type": "stream",
     "text": [
      "['640AF21C', '21BF0660', '41082D69', '306B4711', '557E4C12', '075A603F', '7407975B', '37F8DCB2', '1FFDF920', '1676598F', '5C893459', '0D6E3613', '015C2BF3', '75CB680C', '3D7F9E91', '7176AE1C', '4BC7D80D', '4E6C4E08', '53E3EA27', '4D000C40', '13A10647', '5897B26B', '62AB12F9', '47EF25EA', '49C619B0', '7B058516', '1A72E296', '3A9AF89B', '7C4EAB28', '4EBFE976', '5681E7B8', '6AA28B87', '6D7C5D28', '11638D73', '3FDB7FBF', '3209FBEA', '7CDED969', '0195104E', '1FF9C7F0', '79EF85E4', '2ADEF99D', '07BB384B', '5CB7C64E', '12B05210', '2D2BB5AB', '0E4C7253', '662F0F8B', '76F12FEE', '56463948', '5F41ED52', '179503FF', '2B6718DE', '59FC584B', '5D444D4B', '7DF8DCEA', '733EA94E', '528819BA', '7DF75068', '748FE38B', '5BD8399D', '1F8E760F', '660AA81A', '07B0E455', '420CC303', '5735D969', '190B376D', '06C1F3F8', '17BDC8B8', '35C7C519', '32C1C312', '1F6716A4', '5FB570DA', '34A69E36', '22E65FA6', '1FBC5EA1']\n"
     ]
    }
   ],
   "source": [
    "header_para_ids = getParaIds()\n",
    "print(header_para_ids)"
   ],
   "metadata": {
    "collapsed": false,
    "pycharm": {
     "name": "#%%\n"
    }
   }
  },
  {
   "cell_type": "code",
   "execution_count": 133,
   "outputs": [
    {
     "name": "stdout",
     "output_type": "stream",
     "text": [
      "<?xml version=\"1.0\" encoding=\"UTF-8\" standalone=\"yes\"?>\n",
      "<w:document xmlns:wpc=\"http://schemas.microsoft.com/office/word/2010/wordprocessingCanvas\" xmlns:cx=\"http://schemas.microsoft.com/office/drawing/2014/chartex\" xmlns:cx1=\"http://schemas.microsoft.com/office/drawing/2015/9/8/chartex\" xmlns:cx2=\"http://schemas.microsoft.com/office/drawing/2015/10/21/chartex\" xmlns:cx3=\"http://schemas.microsoft.com/office/drawing/2016/5/9/chartex\" xmlns:cx4=\"http://schemas.microsoft.com/office/drawing/2016/5/10/chartex\" xmlns:cx5=\"http://schemas.microsoft.com/office/drawing/2016/5/11/chartex\" xmlns:cx6=\"http://schemas.microsoft.com/office/drawing/2016/5/12/chartex\" xmlns:cx7=\"http://schemas.microsoft.com/office/drawing/2016/5/13/chartex\" xmlns:cx8=\"http://schemas.microsoft.com/office/drawing/2016/5/14/chartex\" xmlns:mc=\"http://schemas.openxmlformats.org/markup-compatibility/2006\" xmlns:aink=\"http://schemas.microsoft.com/office/drawing/2016/ink\" xmlns:am3d=\"http://schemas.microsoft.com/office/drawing/2017/model3d\" xmlns:o=\"urn:schemas-microsoft-com:office:office\" xmlns:oel=\"http://schemas.microsoft.com/office/2019/extlst\" xmlns:r=\"http://schemas.openxmlformats.org/officeDocument/2006/relationships\" xmlns:m=\"http://schemas.openxmlformats.org/officeDocument/2006/math\" xmlns:v=\"urn:schemas-microsoft-com:vml\" xmlns:wp14=\"http://schemas.microsoft.com/office/word/2010/wordprocessingDrawing\" xmlns:wp=\"http://schemas.openxmlformats.org/drawingml/2006/wordprocessingDrawing\" xmlns:w10=\"urn:schemas-microsoft-com:office:word\" xmlns:w=\"http://schemas.openxmlformats.org/wordprocessingml/2006/main\" xmlns:w14=\"http://schemas.microsoft.com/office/word/2010/wordml\" xmlns:w15=\"http://schemas.microsoft.com/office/word/2012/wordml\" xmlns:w16cex=\"http://schemas.microsoft.com/office/word/2018/wordml/cex\" xmlns:w16cid=\"http://schemas.microsoft.com/office/word/2016/wordml/cid\" xmlns:w16=\"http://schemas.microsoft.com/office/word/2018/wordml\" xmlns:w16sdtdh=\"http://schemas.microsoft.com/office/word/2020/wordml/sdtdatahash\" xmlns:w16se=\"http://schemas.microsoft.com/office/word/2015/wordml/symex\" xmlns:wpg=\"http://schemas.microsoft.com/office/word/2010/wordprocessingGroup\" xmlns:wpi=\"http://schemas.microsoft.com/office/word/2010/wordprocessingInk\" xmlns:wne=\"http://schemas.microsoft.com/office/word/2006/wordml\" xmlns:wps=\"http://schemas.microsoft.com/office/word/2010/wordprocessingShape\" mc:Ignorable=\"w14 w15 w16se w16cid w16 w16cex w16sdtdh wp14\"><w:body>\n"
     ]
    }
   ],
   "source": [],
   "metadata": {
    "collapsed": false,
    "pycharm": {
     "name": "#%%\n"
    }
   }
  },
  {
   "cell_type": "code",
   "execution_count": 137,
   "outputs": [
    {
     "name": "stdout",
     "output_type": "stream",
     "text": [
      "21BF0660 41082D69\n",
      "20748 26623\n",
      "075A603F 7407975B\n",
      "170138 178576\n"
     ]
    }
   ],
   "source": [
    "# def geneareteXML():\n",
    "import re\n",
    "\n",
    "input_data = [[1], [1,1]]\n",
    "\n",
    "xml_string = open(\"input_doc.xml\").read()\n",
    "body_start = re.search(\"<w:body[\\s\\S]*>\", xml_string).start()\n",
    "\n",
    "body_end = body_start + 5\n",
    "while True:\n",
    "    if xml_string[body_end] == '<':\n",
    "        break\n",
    "    body_end += 1\n",
    "\n",
    "out_content = xml_string[:body_end]\n",
    "\n",
    "for input_header_details in input_data:\n",
    "    start_paraId = header_para_ids[getHeaderNum(input_header_details)]\n",
    "\n",
    "    end_paraId = header_para_ids[getHeaderNum(input_header_details) + 1]\n",
    "\n",
    "    print(start_paraId, end_paraId)\n",
    "\n",
    "    header_start = re.search(f\"paraId=\\\"{start_paraId}\\\"\", xml_string).start()\n",
    "\n",
    "    header_1_start = header_start\n",
    "    while True:\n",
    "        if xml_string[header_1_start] == \"<\":\n",
    "            break\n",
    "\n",
    "        header_1_start -= 1\n",
    "\n",
    "    header_end = re.search(f\"paraId=\\\"{end_paraId}\\\"\", xml_string).start()\n",
    "    header_2_start = header_end\n",
    "\n",
    "    while True:\n",
    "        if xml_string[header_2_start] == \"<\":\n",
    "            break\n",
    "\n",
    "        header_2_start -= 1\n",
    "\n",
    "    out_content += xml_string[header_1_start:header_2_start]\n",
    "    print(header_1_start, header_2_start)"
   ],
   "metadata": {
    "collapsed": false,
    "pycharm": {
     "name": "#%%\n"
    }
   }
  },
  {
   "cell_type": "code",
   "execution_count": 138,
   "outputs": [],
   "source": [
    "import re\n",
    "end_content = re.search(\"</w:body[\\s\\S]*>\", xml_string).start()\n",
    "out_content += xml_string[end_content:]"
   ],
   "metadata": {
    "collapsed": false,
    "pycharm": {
     "name": "#%%\n"
    }
   }
  },
  {
   "cell_type": "code",
   "execution_count": 139,
   "outputs": [],
   "source": [
    "out_xml = open(\"document.xml\", 'w')\n",
    "\n",
    "out_xml.write(out_content)\n",
    "out_xml.close()"
   ],
   "metadata": {
    "collapsed": false,
    "pycharm": {
     "name": "#%%\n"
    }
   }
  },
  {
   "cell_type": "code",
   "execution_count": null,
   "outputs": [],
   "source": [
    "order_list = [3, 2, 1]\n",
    "chapter_names = [[\"@.\" \"aaaaa\"], [\"A.\", \"bbbb\"], [\"B.\", \"ccccc\"]]"
   ],
   "metadata": {
    "collapsed": false,
    "pycharm": {
     "name": "#%%\n"
    }
   }
  },
  {
   "cell_type": "code",
   "execution_count": null,
   "outputs": [],
   "source": [
    "I just stop working on your project for today. I will start working tomorrow morning. The project is almost done. I have implemented the table of content page. It will update according to the chosen chapters.\n",
    "\n",
    "Only has 3 things to implement.\n",
    "1) Updating the description (In the second page)\n",
    "2) Changing header titles. I have implemented the UI part. You can only change the main title for now.\n",
    "3) Adding empty pages for new chapters (This is the trickiest part.)"
   ],
   "metadata": {
    "collapsed": false,
    "pycharm": {
     "name": "#%%\n"
    }
   }
  }
 ],
 "metadata": {
  "kernelspec": {
   "display_name": "Python 3",
   "language": "python",
   "name": "python3"
  },
  "language_info": {
   "codemirror_mode": {
    "name": "ipython",
    "version": 2
   },
   "file_extension": ".py",
   "mimetype": "text/x-python",
   "name": "python",
   "nbconvert_exporter": "python",
   "pygments_lexer": "ipython2",
   "version": "2.7.6"
  }
 },
 "nbformat": 4,
 "nbformat_minor": 0
}