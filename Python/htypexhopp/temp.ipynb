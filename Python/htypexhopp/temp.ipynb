{
 "cells": [
  {
   "cell_type": "code",
   "execution_count": 1,
   "metadata": {
    "collapsed": true
   },
   "outputs": [],
   "source": [
    "class Headers:\n",
    "    def __init__(self):\n",
    "        self.headers = []\n",
    "\n",
    "    def addHeader(self, number, text):\n",
    "        self.headers.append([number, text])\n",
    "\n",
    "    def getLevels(self, header_num):\n",
    "        return len(header_num.split(\".\")) - 2\n",
    "\n",
    "    def display(self):\n",
    "        for [header_num, text] in self.headers:\n",
    "            print(\"\\t\" * self.getLevels(header_num) + header_num, text)\n",
    "\n",
    "    def getChapters(self):\n",
    "        chapters = []\n",
    "        for i in range(len(headers.headers)):\n",
    "            if self.getLevels(self.headers[i][0]) == 0:\n",
    "                chapters.append(self.headers[i])\n",
    "        return chapters\n",
    "\n",
    "    def getHeaderTextUI(self, header):\n",
    "        return \"\\t\" * self.getLevels(header[0]) + header[0] + header[1]\n",
    "\n",
    "    def getHeaderPath(self, index):\n",
    "        path = []\n",
    "\n",
    "        header_nums = self.headers[index][0].split(\".\")\n",
    "\n",
    "        for i in range(len(header_nums) - 1):\n",
    "            if i == 0:\n",
    "                path.append(ord(header_nums[i]) - 64)\n",
    "            elif i == 1:\n",
    "                path.append(int(header_nums[i]))\n",
    "            else:\n",
    "                path.append(int(header_nums[i]) - 1)\n",
    "\n",
    "        return path\n",
    "\n",
    "\n",
    "headers = Headers()"
   ]
  },
  {
   "cell_type": "code",
   "execution_count": 2,
   "outputs": [],
   "source": [
    "import re\n",
    "def iter_heading(paragraphs):\n",
    "    for paragraph in paragraphs:\n",
    "        isItHeading = re.match('Heading ([1-9])', paragraph.style.name)\n",
    "        if isItHeading:\n",
    "            yield int(isItHeading.groups()[0]), paragraph\n"
   ],
   "metadata": {
    "collapsed": false,
    "pycharm": {
     "name": "#%%\n"
    }
   }
  },
  {
   "cell_type": "code",
   "execution_count": 3,
   "outputs": [],
   "source": [
    "def addHeaderNumbering(document):\n",
    "    hNums = [-1, -1, -1, -1, -1, -1, -1, -1, -1]\n",
    "    for index, hx in iter_heading(document.paragraphs):\n",
    "\n",
    "        for i in range(index + 1, 9):\n",
    "            if i > 2:\n",
    "                hNums[i] = 0\n",
    "            else:\n",
    "                hNums[i] = -1\n",
    "\n",
    "        hNums[index] += 1\n",
    "\n",
    "        header_num = \"\"\n",
    "\n",
    "        if index < 4:\n",
    "            for i in range(1, index + 1):\n",
    "                if i == 1:\n",
    "                    header_num += chr(64 + hNums[i]) + \".\"\n",
    "                else:\n",
    "                    header_num += \"%d.\" % hNums[i]\n",
    "\n",
    "            headers.addHeader(header_num, hx.text.strip())"
   ],
   "metadata": {
    "collapsed": false,
    "pycharm": {
     "name": "#%%\n"
    }
   }
  },
  {
   "cell_type": "code",
   "execution_count": 4,
   "outputs": [],
   "source": [
    "import docx\n",
    "\n",
    "doc_file_path = \"./input_doc.docx\"\n",
    "doc = docx.Document(doc_file_path)\n",
    "addHeaderNumbering(doc)"
   ],
   "metadata": {
    "collapsed": false,
    "pycharm": {
     "name": "#%%\n"
    }
   }
  },
  {
   "cell_type": "code",
   "execution_count": 5,
   "outputs": [
    {
     "name": "stdout",
     "output_type": "stream",
     "text": [
      "@. Les atouts de notre offre\n",
      "A. \n",
      "\tA.0. Les moyens humains dédiés au marché\n",
      "\t\tA.0.1. Le Curriculum Vitae des principaux encadrants\n",
      "\t\tA.0.2. Le personnel de chantier\n",
      "\tA.1. Les moyens humains dédiés au marché\n",
      "\t\tA.1.1. Le Curriculum Vitae des principaux encadrants\n",
      "\t\tA.1.2. Le personnel de chantier\n",
      "\tA.2. Les moyens humains dédiés au marché\n",
      "\t\tA.2.1. Le Curriculum Vitae des principaux encadrants\n",
      "\t\tA.2.2. Le personnel de chantier\n",
      "B. \n",
      "\tB.0. Moyens matériels affectés au chantier\n",
      "\t\tB.0.1. Ressources matérielles\n",
      "\t\tB.0.2. Parc matériel\n",
      "C. \n",
      "\tC.0. Les atouts de notre offre\n",
      "\tC.1. \n",
      "\tC.2. Fiches méthodes\n",
      "\t\tC.2.1. Mise en œuvre de béton désactivé\n",
      "\t\tC.2.2. Mise en œuvre d’enrobes a la main\n",
      "\t\tC.2.3. Mise en œuvre d’enrobes au finisseur\n",
      "\t\tC.2.4. Mise en œuvre et réglage de GNT\n",
      "\t\tC.2.5. POSE DE BORDURES\n",
      "\t\tC.2.6. Terrassement en déblais\n",
      "\t\tC.2.7. Réseau pluvial\n",
      "D. \n",
      "\tD.0. Atouts de l’offre\n",
      "\tD.1. Risques sur chantier\n",
      "\t\tD.1.1. Durant tout le chantier\n",
      "\tD.2. La sécurité\n",
      "\t\tD.2.1. Organisation signalisation temporaire sous circulation (horizontale et verticale)\n",
      "\t\tD.2.2. Moyens à disposition et vérifications 24h/24h\n",
      "\t\tD.2.3. Homme trafic mis à disposition\n",
      "\t\tD.2.4. Formations et actions spécifiques\n",
      "\t\tD.2.5. Signalisation temporaire\n",
      "\t\tD.2.6. Intervention du laboratoire\n",
      "\t\tD.2.7. Terrassement\n",
      "\t\tD.2.8. Traitement de sol\n",
      "\t\tD.2.9. Couche de forme et d'assise\n",
      "\t\tD.2.10. Assainissement\n",
      "\t\tD.2.11. Adduction d'eau\n",
      "\t\tD.2.12. Tranchées / Réseaux divers\n",
      "\t\tD.2.13. Pose d'éléments préfabriqués\n",
      "\t\tD.2.14. Pose de bordures, pavés, dalles\n",
      "\t\tD.2.15. Enduits superficiels non marqués CE (surface < 500m2 ou formulés par le client)\n",
      "\t\tD.2.16. Dallage béton\n",
      "\t\tD.2.17. Rabotage de voirie\n",
      "\t\tD.2.18. Enrobés\n",
      "\t\tD.2.19. Béton extrudé par coffrage glissant (en cours)\n",
      "E. \n",
      "\tE.0. Les atouts de notre offre\n",
      "\tE.1. Environnement\n",
      "\t\tE.1.1. Réduction des émissions sonores\n",
      "\t\tE.1.2. Qualité de l’air et réduction des émissions de poussières\n",
      "\tE.2. Risques et moyens de prévention par tâche\n",
      "\t\tE.2.1. Durant tout le chantier\n",
      "\t\tE.2.2. Intervention du laboratoire\n",
      "\t\tE.2.3. Terrassement\n",
      "\t\tE.2.4. Traitement de sol\n",
      "\t\tE.2.5. Couche de forme et d'assise\n",
      "\t\tE.2.6. Assainissement\n",
      "\t\tE.2.7. Adduction d'eau\n",
      "\t\tE.2.8. Tranchées / Réseaux divers\n",
      "\t\tE.2.9. Pose de bordures, pavés, dalles\n",
      "\t\tE.2.10. Enduits superficiels non marqués CE (surface < 500m2 ou formulés par le client)\n",
      "\t\tE.2.11. Dallage béton\n",
      "\t\tE.2.12. Rabotage de voirie\n",
      "\t\tE.2.13. Enrobés\n",
      "\t\tE.2.14. Béton extrudé par coffrage glissant (en cours)\n",
      "F. \n",
      "\tF.0. Les atouts de notre offre\n",
      "\tF.1. Gestion des déchets\n",
      "\t\tF.1.1. Gestion des déchets\n",
      "G. \n",
      "None\n"
     ]
    }
   ],
   "source": [
    "print(headers.display())"
   ],
   "metadata": {
    "collapsed": false,
    "pycharm": {
     "name": "#%%\n"
    }
   }
  },
  {
   "cell_type": "code",
   "execution_count": 8,
   "outputs": [
    {
     "data": {
      "text/plain": "[1, 0, 0]"
     },
     "execution_count": 8,
     "metadata": {},
     "output_type": "execute_result"
    }
   ],
   "source": [
    "headers.getHeaderPath(3)"
   ],
   "metadata": {
    "collapsed": false,
    "pycharm": {
     "name": "#%%\n"
    }
   }
  },
  {
   "cell_type": "code",
   "execution_count": 11,
   "outputs": [],
   "source": [
    "doc_file_path = \"input_doc.docx\"\n",
    "xml_file_path = \"Word Document/word/document.xml\"\n",
    "zip_file_path = \"input_zip.zip\"\n",
    "output_zip_path = \"output.zip\"\n",
    "output_doc_path = \"output.docx\""
   ],
   "metadata": {
    "collapsed": false,
    "pycharm": {
     "name": "#%%\n"
    }
   }
  },
  {
   "cell_type": "code",
   "execution_count": 12,
   "outputs": [],
   "source": [
    "import zipfile\n",
    "import shutil\n",
    "\n",
    "\n",
    "def initDocFile(filename):\n",
    "    shutil.copyfile(filename, zip_file_path)\n",
    "\n",
    "    with zipfile.ZipFile(zip_file_path, 'r') as zip_ref:\n",
    "        zip_ref.extractall(\"Word Document\")"
   ],
   "metadata": {
    "collapsed": false,
    "pycharm": {
     "name": "#%%\n"
    }
   }
  },
  {
   "cell_type": "code",
   "execution_count": 13,
   "outputs": [],
   "source": [
    "initDocFile(doc_file_path)\n"
   ],
   "metadata": {
    "collapsed": false,
    "pycharm": {
     "name": "#%%\n"
    }
   }
  },
  {
   "cell_type": "code",
   "execution_count": 14,
   "outputs": [],
   "source": [
    "from bs4 import BeautifulSoup\n",
    "\n",
    "xml_file_path = \"Word Document/word/document.xml\"\n",
    "\n",
    "def getParaIds():\n",
    "    xml_file = open(xml_file_path, 'r')\n",
    "    content = xml_file.read()\n",
    "    soup = BeautifulSoup(content, 'xml')\n",
    "    xml_file.close()\n",
    "\n",
    "    header_para_ids = []\n",
    "    p_s = soup.findAll(\"w:p\")\n",
    "    index = 0\n",
    "\n",
    "    for p in p_s:\n",
    "        ppr_s = p.findAll(\"w:pPr\")\n",
    "        if len(ppr_s) == 0:\n",
    "            continue\n",
    "\n",
    "        for ppr in ppr_s:\n",
    "            p_style = ppr.findAll(\"w:pStyle\",\n",
    "                                  {\"w:val\": re.compile(\"Heading1|Titre1|Heading2|Titre2|Heading3|Titre3\")})\n",
    "            if len(p_style) == 0:\n",
    "                continue\n",
    "\n",
    "            index += 1\n",
    "\n",
    "            header_content = str(p_style[0].parent.parent)\n",
    "            # print(\"header\", header_content)\n",
    "            pos = header_content.find(\"paraId\")\n",
    "\n",
    "            end_pos = pos + 8\n",
    "            while True:\n",
    "                if header_content[end_pos] == '\\\"':\n",
    "                    break\n",
    "\n",
    "                end_pos += 1\n",
    "\n",
    "            header_para_ids.append(header_content[pos + 8: end_pos])\n",
    "            # print(header_content[pos + 8:end_pos])\n",
    "\n",
    "    return header_para_ids"
   ],
   "metadata": {
    "collapsed": false,
    "pycharm": {
     "name": "#%%\n"
    }
   }
  },
  {
   "cell_type": "code",
   "execution_count": 15,
   "outputs": [
    {
     "data": {
      "text/plain": "['640AF21C',\n '21BF0660',\n '41082D69',\n '306B4711',\n '557E4C12',\n '075A603F',\n '7407975B',\n '37F8DCB2',\n '1FFDF920',\n '1676598F',\n '5C893459',\n '0D6E3613',\n '015C2BF3',\n '75CB680C',\n '3D7F9E91',\n '7176AE1C',\n '4BC7D80D',\n '4E6C4E08',\n '53E3EA27',\n '4D000C40',\n '13A10647',\n '5897B26B',\n '62AB12F9',\n '47EF25EA',\n '49C619B0',\n '7B058516',\n '1A72E296',\n '3A9AF89B',\n '7C4EAB28',\n '4EBFE976',\n '5681E7B8',\n '6AA28B87',\n '6D7C5D28',\n '11638D73',\n '3FDB7FBF',\n '3209FBEA',\n '7CDED969',\n '0195104E',\n '1FF9C7F0',\n '79EF85E4',\n '2ADEF99D',\n '07BB384B',\n '5CB7C64E',\n '12B05210',\n '2D2BB5AB',\n '0E4C7253',\n '662F0F8B',\n '76F12FEE',\n '56463948',\n '5F41ED52',\n '179503FF',\n '2B6718DE',\n '59FC584B',\n '5D444D4B',\n '7DF8DCEA',\n '733EA94E',\n '528819BA',\n '7DF75068',\n '748FE38B',\n '5BD8399D',\n '1F8E760F',\n '660AA81A',\n '07B0E455',\n '420CC303',\n '5735D969',\n '190B376D',\n '06C1F3F8',\n '17BDC8B8',\n '35C7C519',\n '32C1C312',\n '1F6716A4',\n '5FB570DA',\n '34A69E36',\n '22E65FA6',\n '1FBC5EA1']"
     },
     "execution_count": 15,
     "metadata": {},
     "output_type": "execute_result"
    }
   ],
   "source": [
    "getParaIds()"
   ],
   "metadata": {
    "collapsed": false,
    "pycharm": {
     "name": "#%%\n"
    }
   }
  },
  {
   "cell_type": "code",
   "execution_count": null,
   "outputs": [],
   "source": [
    "import os\n",
    "\n",
    "\n",
    "def generateXML():\n",
    "    global chapter_indices\n",
    "    global header_vars\n",
    "\n",
    "    try:\n",
    "        shutil.rmtree(\"Word Document\")\n",
    "\n",
    "    except:\n",
    "        pass\n",
    "\n",
    "    with zipfile.ZipFile(zip_file_path, 'r') as zip_ref:\n",
    "        zip_ref.extractall(\"Word Document\")\n",
    "\n",
    "    for file in [output_doc_path, output_zip_path, \"pre_output.docx\"]:\n",
    "        if os.path.exists(file):\n",
    "            os.remove(file)\n",
    "\n",
    "    if os.path.exists(xml_file_path):\n",
    "        selectedData = []\n",
    "        for i in range(len(header_vars)):\n",
    "            if header_vars[i].get() == 1:\n",
    "                selectedData.append([i, headers.getHeaderPath(i)])\n",
    "\n",
    "\n",
    "        print(\"Selec\")\n",
    "        print(selectedData)\n",
    "\n",
    "\n",
    "        # print(\"input data : \", input_data)\n",
    "        header_para_ids = getParaIds()\n",
    "        # print(header_para_ids)\n",
    "\n",
    "        xml_string = open(xml_file_path).read()\n",
    "        body_start = re.search(\"<w:body[\\s\\S]*>\", xml_string).start()\n",
    "\n",
    "        body_end = body_start + 5\n",
    "        while True:\n",
    "            if xml_string[body_end] == '<':\n",
    "                break\n",
    "            body_end += 1\n",
    "\n",
    "        out_content = xml_string[:body_end]\n",
    "\n",
    "        # out_content += open(\"empty_template.txt\").read()\n",
    "        for input_header_details in selectedData:\n",
    "            # print(getHeaderNum(input_header_details[1]))\n",
    "            # print(len(header_para_ids))\n",
    "            start_paraId = header_para_ids[getHeaderNum(input_header_details[1])]\n",
    "\n",
    "            end_paraId = None\n",
    "            if input_header_details[0] != len(headers.headers) - 1:\n",
    "                end_paraId = header_para_ids[getHeaderNum(input_header_details[1]) + 1]\n",
    "\n",
    "                # print(start_paraId, end_paraId)\n",
    "\n",
    "            header_start = re.search(f\"paraId=\\\"{start_paraId}\\\"\", xml_string).start()\n",
    "\n",
    "            header_1_start = header_start\n",
    "            while True:\n",
    "                if xml_string[header_1_start] == \"<\":\n",
    "                    break\n",
    "\n",
    "                header_1_start -= 1\n",
    "\n",
    "            if input_header_details[0] != len(headers.headers) - 1:\n",
    "                header_end = re.search(f\"paraId=\\\"{end_paraId}\\\"\", xml_string).start()\n",
    "                header_2_start = header_end\n",
    "\n",
    "                while True:\n",
    "                    if xml_string[header_2_start] == \"<\":\n",
    "                        break\n",
    "\n",
    "                    header_2_start -= 1\n",
    "\n",
    "                out_content += xml_string[header_1_start:header_2_start]\n",
    "\n",
    "            else:\n",
    "\n",
    "                last_pos = re.search(\"</w:body[\\s\\S]*>\", xml_string).start()\n",
    "                out_content += xml_string[header_1_start:last_pos]\n",
    "\n",
    "        end_content = re.search(\"</w:body[\\s\\S]*>\", xml_string).start()\n",
    "        out_content += xml_string[end_content:]\n",
    "\n",
    "        out_xml = open(xml_file_path, 'w')\n",
    "\n",
    "        out_xml.write(out_content)\n",
    "        out_xml.close()\n",
    "\n",
    "        CreateDoc()\n",
    "\n",
    "\n",
    "select_button_status = 0"
   ],
   "metadata": {
    "collapsed": false,
    "pycharm": {
     "name": "#%%\n"
    }
   }
  }
 ],
 "metadata": {
  "kernelspec": {
   "display_name": "Python 3",
   "language": "python",
   "name": "python3"
  },
  "language_info": {
   "codemirror_mode": {
    "name": "ipython",
    "version": 2
   },
   "file_extension": ".py",
   "mimetype": "text/x-python",
   "name": "python",
   "nbconvert_exporter": "python",
   "pygments_lexer": "ipython2",
   "version": "2.7.6"
  }
 },
 "nbformat": 4,
 "nbformat_minor": 0
}