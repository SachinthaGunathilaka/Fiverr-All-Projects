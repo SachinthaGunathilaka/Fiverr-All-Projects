if __name__ == '__main__':

    from bs4 import BeautifulSoup

    xml_file = open("document.xml", 'r')
    content = xml_file.read()

    soup = BeautifulSoup(content, 'lxml')
    print(soup.findAll('body'))